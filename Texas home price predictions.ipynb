{
 "cells": [
  {
   "cell_type": "markdown",
   "id": "6f148eb2",
   "metadata": {},
   "source": [
    "# Project to Build a Model for Housing Prices."
   ]
  },
  {
   "cell_type": "markdown",
   "id": "9ec3053e",
   "metadata": {},
   "source": [
    "## Milestone 1"
   ]
  },
  {
   "cell_type": "markdown",
   "id": "f5acea39",
   "metadata": {},
   "source": [
    "$\\;\\;\\;\\;\\;\\;$ While working in the mortgage sector there tends to be quite a few customers that will say their home is worth more than what the appraiser has indicated. A small mortgage company in Texas seems to be getting many customer complaints about the values of their homes that appraisers are providing. The mortgage company decided that they want to have a model created for homes that are currently listed for sale to use to determine if the appraisers are providing appropriate values for homes. The model will take in some characteristics of a home such as bedrooms, bathrooms, square footage, and age of the home to aid in predicting what a specific home should sell for. The data set for this project can be found on the following link (https://www.kaggle.com/datasets/kanchana1990/texas-real-estate-trends-2024-500-listings/code). \n",
    "\n",
    "$\\;\\;\\;\\;\\;\\;$ The data contains a mix of values and categories that can be used for the analysis. However, there are a couple of columns that will provide no insight to the model. The columns that provide no value to the model will be removed. Once the model is complete the mortgage company will be able to input characteristics of customer’s homes into the model to predict what the value of the home should be. This will aid in the mortgage companies' decision to either ignore what value the appraiser has provided for the home as a work around or support what they are providing as the value. Using this to help keep records of home values will also allow the mortgage company to track the performance of the appraisers that they are employing. The main characteristics of a home will be the primary focus of the project. However, since property descriptions are provided, an additional model will be created to see if this affects the listing price for a home. By the project's end, we will have at least two models in which the mortgage or real-estate sector can use to predict home values."
   ]
  },
  {
   "cell_type": "code",
   "execution_count": 1,
   "id": "8155c4ef",
   "metadata": {},
   "outputs": [
    {
     "name": "stderr",
     "output_type": "stream",
     "text": [
      "[nltk_data] Downloading package stopwords to\n",
      "[nltk_data]     /Users/andrewpfeifer/nltk_data...\n",
      "[nltk_data]   Package stopwords is already up-to-date!\n"
     ]
    }
   ],
   "source": [
    "import pandas as pd\n",
    "import numpy as np\n",
    "import string\n",
    "import nltk\n",
    "\n",
    "from sklearn.preprocessing import PowerTransformer\n",
    "from sklearn import svm\n",
    "from sklearn.ensemble import RandomForestRegressor\n",
    "from sklearn.feature_extraction.text import TfidfVectorizer\n",
    "from sklearn.pipeline import Pipeline, FeatureUnion\n",
    "from sklearn.ensemble import RandomForestClassifier\n",
    "from sklearn.model_selection import GridSearchCV\n",
    "from sklearn.metrics import classification_report, r2_score, mean_squared_error\n",
    "from sklearn.linear_model import LinearRegression\n",
    "from scipy import stats\n",
    "from sklearn.decomposition import PCA\n",
    "from nltk.corpus import stopwords\n",
    "from nltk.tokenize import word_tokenize\n",
    "nltk.download('stopwords')\n",
    "from nltk.stem.porter import PorterStemmer\n",
    "from sklearn.model_selection import train_test_split\n",
    "import matplotlib.pyplot as plt\n",
    "import seaborn as sns\n",
    "%matplotlib inline\n",
    "import warnings\n",
    "warnings.filterwarnings(\"ignore\")"
   ]
  },
  {
   "cell_type": "code",
   "execution_count": 2,
   "id": "f9368901",
   "metadata": {},
   "outputs": [],
   "source": [
    "def remove_punctuation(text):\n",
    "    for punctuation in string.punctuation:\n",
    "        text = text.replace(punctuation, '')\n",
    "    return text"
   ]
  },
  {
   "cell_type": "code",
   "execution_count": 3,
   "id": "3ada49b5",
   "metadata": {},
   "outputs": [],
   "source": [
    "def remove_stop(x):\n",
    "    return [word for word in x if word not in stop_words]"
   ]
  },
  {
   "cell_type": "code",
   "execution_count": 4,
   "id": "c79b1be7",
   "metadata": {},
   "outputs": [],
   "source": [
    "def stemmer(tokenized):\n",
    "    text = [porter.stem(word) for word in tokenized]\n",
    "    return text"
   ]
  },
  {
   "cell_type": "markdown",
   "id": "b201493d",
   "metadata": {},
   "source": [
    "### Exploring The Data"
   ]
  },
  {
   "cell_type": "code",
   "execution_count": 5,
   "id": "fa9e8eef",
   "metadata": {},
   "outputs": [
    {
     "data": {
      "text/html": [
       "<div>\n",
       "<style scoped>\n",
       "    .dataframe tbody tr th:only-of-type {\n",
       "        vertical-align: middle;\n",
       "    }\n",
       "\n",
       "    .dataframe tbody tr th {\n",
       "        vertical-align: top;\n",
       "    }\n",
       "\n",
       "    .dataframe thead th {\n",
       "        text-align: right;\n",
       "    }\n",
       "</style>\n",
       "<table border=\"1\" class=\"dataframe\">\n",
       "  <thead>\n",
       "    <tr style=\"text-align: right;\">\n",
       "      <th></th>\n",
       "      <th>url</th>\n",
       "      <th>status</th>\n",
       "      <th>id</th>\n",
       "      <th>listPrice</th>\n",
       "      <th>baths</th>\n",
       "      <th>baths_full</th>\n",
       "      <th>baths_full_calc</th>\n",
       "      <th>beds</th>\n",
       "      <th>sqft</th>\n",
       "      <th>stories</th>\n",
       "      <th>sub_type</th>\n",
       "      <th>text</th>\n",
       "      <th>type</th>\n",
       "      <th>year_built</th>\n",
       "    </tr>\n",
       "  </thead>\n",
       "  <tbody>\n",
       "    <tr>\n",
       "      <th>0</th>\n",
       "      <td>https://www.realtor.com/realestateandhomes-det...</td>\n",
       "      <td>for_sale</td>\n",
       "      <td>9773941616</td>\n",
       "      <td>240000.0</td>\n",
       "      <td>2</td>\n",
       "      <td>2.0</td>\n",
       "      <td>2.0</td>\n",
       "      <td>3.0</td>\n",
       "      <td>1190.0</td>\n",
       "      <td>1.0</td>\n",
       "      <td>NaN</td>\n",
       "      <td>Welcome home to your peaceful retreat nestled ...</td>\n",
       "      <td>single_family</td>\n",
       "      <td>2018.0</td>\n",
       "    </tr>\n",
       "    <tr>\n",
       "      <th>1</th>\n",
       "      <td>https://www.realtor.com/realestateandhomes-det...</td>\n",
       "      <td>for_sale</td>\n",
       "      <td>9224923922</td>\n",
       "      <td>379900.0</td>\n",
       "      <td>4</td>\n",
       "      <td>3.0</td>\n",
       "      <td>3.0</td>\n",
       "      <td>4.0</td>\n",
       "      <td>2033.0</td>\n",
       "      <td>1.0</td>\n",
       "      <td>NaN</td>\n",
       "      <td>Beautiful country home on 0.85 fenced acres, m...</td>\n",
       "      <td>single_family</td>\n",
       "      <td>2002.0</td>\n",
       "    </tr>\n",
       "    <tr>\n",
       "      <th>2</th>\n",
       "      <td>https://www.realtor.com/realestateandhomes-det...</td>\n",
       "      <td>for_sale</td>\n",
       "      <td>9840661824</td>\n",
       "      <td>370000.0</td>\n",
       "      <td>2</td>\n",
       "      <td>2.0</td>\n",
       "      <td>2.0</td>\n",
       "      <td>4.0</td>\n",
       "      <td>2062.0</td>\n",
       "      <td>1.0</td>\n",
       "      <td>NaN</td>\n",
       "      <td>PRICED TO SELL CORNER LOT HAS A STORM SHELTER ...</td>\n",
       "      <td>single_family</td>\n",
       "      <td>2012.0</td>\n",
       "    </tr>\n",
       "    <tr>\n",
       "      <th>3</th>\n",
       "      <td>https://www.realtor.com/realestateandhomes-det...</td>\n",
       "      <td>for_sale</td>\n",
       "      <td>7338317229</td>\n",
       "      <td>444000.0</td>\n",
       "      <td>4</td>\n",
       "      <td>3.0</td>\n",
       "      <td>3.0</td>\n",
       "      <td>5.0</td>\n",
       "      <td>3705.0</td>\n",
       "      <td>2.0</td>\n",
       "      <td>NaN</td>\n",
       "      <td>Come check out country living in the city! Are...</td>\n",
       "      <td>single_family</td>\n",
       "      <td>1985.0</td>\n",
       "    </tr>\n",
       "    <tr>\n",
       "      <th>4</th>\n",
       "      <td>https://www.realtor.com/realestateandhomes-det...</td>\n",
       "      <td>for_sale</td>\n",
       "      <td>7285845528</td>\n",
       "      <td>569000.0</td>\n",
       "      <td>2</td>\n",
       "      <td>2.0</td>\n",
       "      <td>2.0</td>\n",
       "      <td>3.0</td>\n",
       "      <td>3282.0</td>\n",
       "      <td>2.0</td>\n",
       "      <td>NaN</td>\n",
       "      <td>Welcome to your dream retreat! Nestled on over...</td>\n",
       "      <td>single_family</td>\n",
       "      <td>1981.0</td>\n",
       "    </tr>\n",
       "  </tbody>\n",
       "</table>\n",
       "</div>"
      ],
      "text/plain": [
       "                                                 url    status          id  \\\n",
       "0  https://www.realtor.com/realestateandhomes-det...  for_sale  9773941616   \n",
       "1  https://www.realtor.com/realestateandhomes-det...  for_sale  9224923922   \n",
       "2  https://www.realtor.com/realestateandhomes-det...  for_sale  9840661824   \n",
       "3  https://www.realtor.com/realestateandhomes-det...  for_sale  7338317229   \n",
       "4  https://www.realtor.com/realestateandhomes-det...  for_sale  7285845528   \n",
       "\n",
       "   listPrice  baths  baths_full  baths_full_calc  beds    sqft  stories  \\\n",
       "0   240000.0      2         2.0              2.0   3.0  1190.0      1.0   \n",
       "1   379900.0      4         3.0              3.0   4.0  2033.0      1.0   \n",
       "2   370000.0      2         2.0              2.0   4.0  2062.0      1.0   \n",
       "3   444000.0      4         3.0              3.0   5.0  3705.0      2.0   \n",
       "4   569000.0      2         2.0              2.0   3.0  3282.0      2.0   \n",
       "\n",
       "  sub_type                                               text           type  \\\n",
       "0      NaN  Welcome home to your peaceful retreat nestled ...  single_family   \n",
       "1      NaN  Beautiful country home on 0.85 fenced acres, m...  single_family   \n",
       "2      NaN  PRICED TO SELL CORNER LOT HAS A STORM SHELTER ...  single_family   \n",
       "3      NaN  Come check out country living in the city! Are...  single_family   \n",
       "4      NaN  Welcome to your dream retreat! Nestled on over...  single_family   \n",
       "\n",
       "   year_built  \n",
       "0      2018.0  \n",
       "1      2002.0  \n",
       "2      2012.0  \n",
       "3      1985.0  \n",
       "4      1981.0  "
      ]
     },
     "execution_count": 5,
     "metadata": {},
     "output_type": "execute_result"
    }
   ],
   "source": [
    "# Import the data and check that it loaded in properly.\n",
    "\n",
    "housing = pd.read_csv('real_estate_texas_500_2024.csv')\n",
    "housing.head()"
   ]
  },
  {
   "cell_type": "code",
   "execution_count": 6,
   "id": "eb917fac",
   "metadata": {},
   "outputs": [
    {
     "data": {
      "text/plain": [
       "(501, 14)"
      ]
     },
     "execution_count": 6,
     "metadata": {},
     "output_type": "execute_result"
    }
   ],
   "source": [
    "# Check the dimensions of the data set.\n",
    "\n",
    "housing.shape"
   ]
  },
  {
   "cell_type": "code",
   "execution_count": 7,
   "id": "dacaf306",
   "metadata": {},
   "outputs": [
    {
     "data": {
      "text/plain": [
       "url                 object\n",
       "status              object\n",
       "id                   int64\n",
       "listPrice          float64\n",
       "baths                int64\n",
       "baths_full         float64\n",
       "baths_full_calc    float64\n",
       "beds               float64\n",
       "sqft               float64\n",
       "stories            float64\n",
       "sub_type            object\n",
       "text                object\n",
       "type                object\n",
       "year_built         float64\n",
       "dtype: object"
      ]
     },
     "execution_count": 7,
     "metadata": {},
     "output_type": "execute_result"
    }
   ],
   "source": [
    "# Check the data types of the data frame columns.\n",
    "\n",
    "housing.dtypes"
   ]
  },
  {
   "cell_type": "code",
   "execution_count": 8,
   "id": "0b3b90d3",
   "metadata": {},
   "outputs": [
    {
     "data": {
      "text/plain": [
       "array([nan, 'townhouse', 'condo'], dtype=object)"
      ]
     },
     "execution_count": 8,
     "metadata": {},
     "output_type": "execute_result"
    }
   ],
   "source": [
    "# Checking what information is in the sub_type column.\n",
    "\n",
    "housing['sub_type'].unique()"
   ]
  },
  {
   "cell_type": "code",
   "execution_count": 9,
   "id": "b259a446",
   "metadata": {},
   "outputs": [
    {
     "data": {
      "text/plain": [
       "array(['for_sale'], dtype=object)"
      ]
     },
     "execution_count": 9,
     "metadata": {},
     "output_type": "execute_result"
    }
   ],
   "source": [
    "# Checking what information is in the status column.\n",
    "\n",
    "housing['status'].unique()"
   ]
  },
  {
   "cell_type": "markdown",
   "id": "d8c58b80",
   "metadata": {},
   "source": [
    "The data set has 14 cloumns and 501 rows. The data set includes a mix of floats integers and object types. The status column provides nothing valuable to the model and sub_type seems to be the same information as type. Both should be considered for removal."
   ]
  },
  {
   "cell_type": "code",
   "execution_count": 10,
   "id": "756c0c7c",
   "metadata": {},
   "outputs": [
    {
     "data": {
      "text/html": [
       "<div>\n",
       "<style scoped>\n",
       "    .dataframe tbody tr th:only-of-type {\n",
       "        vertical-align: middle;\n",
       "    }\n",
       "\n",
       "    .dataframe tbody tr th {\n",
       "        vertical-align: top;\n",
       "    }\n",
       "\n",
       "    .dataframe thead th {\n",
       "        text-align: right;\n",
       "    }\n",
       "</style>\n",
       "<table border=\"1\" class=\"dataframe\">\n",
       "  <thead>\n",
       "    <tr style=\"text-align: right;\">\n",
       "      <th></th>\n",
       "      <th>id</th>\n",
       "      <th>listPrice</th>\n",
       "      <th>baths</th>\n",
       "      <th>baths_full</th>\n",
       "      <th>baths_full_calc</th>\n",
       "      <th>beds</th>\n",
       "      <th>sqft</th>\n",
       "      <th>stories</th>\n",
       "      <th>year_built</th>\n",
       "    </tr>\n",
       "  </thead>\n",
       "  <tbody>\n",
       "    <tr>\n",
       "      <th>count</th>\n",
       "      <td>5.010000e+02</td>\n",
       "      <td>4.990000e+02</td>\n",
       "      <td>501.000000</td>\n",
       "      <td>436.000000</td>\n",
       "      <td>436.000000</td>\n",
       "      <td>440.000000</td>\n",
       "      <td>438.000000</td>\n",
       "      <td>391.000000</td>\n",
       "      <td>289.000000</td>\n",
       "    </tr>\n",
       "    <tr>\n",
       "      <th>mean</th>\n",
       "      <td>9.193045e+09</td>\n",
       "      <td>5.106686e+05</td>\n",
       "      <td>2.323353</td>\n",
       "      <td>2.332569</td>\n",
       "      <td>2.332569</td>\n",
       "      <td>3.454545</td>\n",
       "      <td>2334.568493</td>\n",
       "      <td>1.375959</td>\n",
       "      <td>1999.536332</td>\n",
       "    </tr>\n",
       "    <tr>\n",
       "      <th>std</th>\n",
       "      <td>7.789197e+08</td>\n",
       "      <td>1.321054e+06</td>\n",
       "      <td>1.286559</td>\n",
       "      <td>0.759276</td>\n",
       "      <td>0.759276</td>\n",
       "      <td>0.914439</td>\n",
       "      <td>3220.244985</td>\n",
       "      <td>0.525586</td>\n",
       "      <td>25.400942</td>\n",
       "    </tr>\n",
       "    <tr>\n",
       "      <th>min</th>\n",
       "      <td>7.021680e+09</td>\n",
       "      <td>1.000000e+04</td>\n",
       "      <td>0.000000</td>\n",
       "      <td>1.000000</td>\n",
       "      <td>1.000000</td>\n",
       "      <td>0.000000</td>\n",
       "      <td>0.000000</td>\n",
       "      <td>1.000000</td>\n",
       "      <td>1891.000000</td>\n",
       "    </tr>\n",
       "    <tr>\n",
       "      <th>25%</th>\n",
       "      <td>8.995365e+09</td>\n",
       "      <td>2.647450e+05</td>\n",
       "      <td>2.000000</td>\n",
       "      <td>2.000000</td>\n",
       "      <td>2.000000</td>\n",
       "      <td>3.000000</td>\n",
       "      <td>1604.250000</td>\n",
       "      <td>1.000000</td>\n",
       "      <td>1981.000000</td>\n",
       "    </tr>\n",
       "    <tr>\n",
       "      <th>50%</th>\n",
       "      <td>9.419976e+09</td>\n",
       "      <td>3.749000e+05</td>\n",
       "      <td>2.000000</td>\n",
       "      <td>2.000000</td>\n",
       "      <td>2.000000</td>\n",
       "      <td>3.000000</td>\n",
       "      <td>2034.500000</td>\n",
       "      <td>1.000000</td>\n",
       "      <td>2006.000000</td>\n",
       "    </tr>\n",
       "    <tr>\n",
       "      <th>75%</th>\n",
       "      <td>9.798074e+09</td>\n",
       "      <td>5.390000e+05</td>\n",
       "      <td>3.000000</td>\n",
       "      <td>3.000000</td>\n",
       "      <td>3.000000</td>\n",
       "      <td>4.000000</td>\n",
       "      <td>2636.500000</td>\n",
       "      <td>2.000000</td>\n",
       "      <td>2022.000000</td>\n",
       "    </tr>\n",
       "    <tr>\n",
       "      <th>max</th>\n",
       "      <td>9.992374e+09</td>\n",
       "      <td>2.895000e+07</td>\n",
       "      <td>8.000000</td>\n",
       "      <td>8.000000</td>\n",
       "      <td>8.000000</td>\n",
       "      <td>9.000000</td>\n",
       "      <td>67139.000000</td>\n",
       "      <td>4.000000</td>\n",
       "      <td>2024.000000</td>\n",
       "    </tr>\n",
       "  </tbody>\n",
       "</table>\n",
       "</div>"
      ],
      "text/plain": [
       "                 id     listPrice       baths  baths_full  baths_full_calc  \\\n",
       "count  5.010000e+02  4.990000e+02  501.000000  436.000000       436.000000   \n",
       "mean   9.193045e+09  5.106686e+05    2.323353    2.332569         2.332569   \n",
       "std    7.789197e+08  1.321054e+06    1.286559    0.759276         0.759276   \n",
       "min    7.021680e+09  1.000000e+04    0.000000    1.000000         1.000000   \n",
       "25%    8.995365e+09  2.647450e+05    2.000000    2.000000         2.000000   \n",
       "50%    9.419976e+09  3.749000e+05    2.000000    2.000000         2.000000   \n",
       "75%    9.798074e+09  5.390000e+05    3.000000    3.000000         3.000000   \n",
       "max    9.992374e+09  2.895000e+07    8.000000    8.000000         8.000000   \n",
       "\n",
       "             beds          sqft     stories   year_built  \n",
       "count  440.000000    438.000000  391.000000   289.000000  \n",
       "mean     3.454545   2334.568493    1.375959  1999.536332  \n",
       "std      0.914439   3220.244985    0.525586    25.400942  \n",
       "min      0.000000      0.000000    1.000000  1891.000000  \n",
       "25%      3.000000   1604.250000    1.000000  1981.000000  \n",
       "50%      3.000000   2034.500000    1.000000  2006.000000  \n",
       "75%      4.000000   2636.500000    2.000000  2022.000000  \n",
       "max      9.000000  67139.000000    4.000000  2024.000000  "
      ]
     },
     "execution_count": 10,
     "metadata": {},
     "output_type": "execute_result"
    }
   ],
   "source": [
    "# Obtain the describe statistics from the data set\n",
    "\n",
    "housing.describe()"
   ]
  },
  {
   "cell_type": "markdown",
   "id": "551a8b9e",
   "metadata": {},
   "source": [
    "Based on the descriptive statistics, we'd expect the average home to be built in 1999, have 1 story, have 3 bed rooms and 2 baths. The square footage would be 2,334 sqft and cost roughly $510,668. "
   ]
  },
  {
   "cell_type": "code",
   "execution_count": 11,
   "id": "1d482f4c",
   "metadata": {},
   "outputs": [
    {
     "data": {
      "image/png": "[encoded data removed]",
      "text/plain": [
       "<Figure size 1000x1500 with 3 Axes>"
      ]
     },
     "metadata": {},
     "output_type": "display_data"
    }
   ],
   "source": [
    "# Using subplots to create a figure to hold three plots.\n",
    "# The plots are stacked vertically to properly display all information without the labels being blocked.\n",
    "\n",
    "fig, (ax1, ax2, ax3) = plt.subplots(3, 1, figsize=(10, 15))\n",
    "\n",
    "# Set up ax1 for the list price histogram.\n",
    "ax1.hist(housing.listPrice, bins=1000)\n",
    "ax1.set_title(\"Histogram of List Price\")\n",
    "ax1.set_xlabel(\"List Price\")\n",
    "ax1.set_ylabel(\"Frequency\")\n",
    "ax1.set_xlim(0,0.3e7)\n",
    "ax1.set_ylim(0,45)\n",
    "\n",
    "# Set up ax2 for the square footage histogram.\n",
    "ax2.hist(housing.sqft, bins=200)\n",
    "ax2.set_title(\"Histogram of Square Feet\")\n",
    "ax2.set_xlabel(\"Square Feet\")\n",
    "ax2.set_ylabel(\"Frequency\")\n",
    "ax2.set_xlim([0,8000])\n",
    "\n",
    "# Set up ax3 for the year built histogram.\n",
    "ax3.hist(housing.year_built, bins=15)\n",
    "ax3.set_title(\"Histogram of Year Built\")\n",
    "ax3.set_xlabel(\"Year Built\")\n",
    "ax3.set_ylabel(\"Frequency\")\n",
    "\n",
    "plt.show()"
   ]
  },
  {
   "cell_type": "markdown",
   "id": "eaf0dfaa",
   "metadata": {},
   "source": [
    "Based on the histograms, we'd expect most homes to be between 400,000.00 and 500,000.00 us dollars,  to have about 2,000 sqft and to be built in 2020."
   ]
  },
  {
   "cell_type": "code",
   "execution_count": 12,
   "id": "f6049ed0",
   "metadata": {},
   "outputs": [],
   "source": [
    "# To prepare the data for the bargraphs we need two variables to hold the x-values or\n",
    "# The number of stories, types of homes, etc. The y variables or count will hold\n",
    "# the total counts for each x variable.\n",
    "\n",
    "types = housing.groupby('type').size().reset_index(name='Counts')['type']\n",
    "type_count = housing.groupby('type').size().reset_index(name='Counts')['Counts']\n",
    "\n",
    "stories = housing.groupby('stories').size().reset_index(name='Counts')['stories']\n",
    "stories_count = housing.groupby('stories').size().reset_index(name='Counts')['Counts']\n",
    "\n",
    "beds = housing.groupby('beds').size().reset_index(name='Counts')['beds']\n",
    "beds_count = housing.groupby('beds').size().reset_index(name='Counts')['Counts']\n",
    "\n",
    "baths = housing.groupby('baths').size().reset_index(name='Counts')['baths']\n",
    "baths_count = housing.groupby('baths').size().reset_index(name='Counts')['Counts']"
   ]
  },
  {
   "cell_type": "code",
   "execution_count": 13,
   "id": "bc4be4a3",
   "metadata": {},
   "outputs": [
    {
     "data": {
      "image/png": "[encoded data removed]",
      "text/plain": [
       "<Figure size 1000x2000 with 4 Axes>"
      ]
     },
     "metadata": {},
     "output_type": "display_data"
    }
   ],
   "source": [
    "# Using subplots to create a figure to hold three plots.\n",
    "# The plots are stacked vertically to properly display all information without the labels being blocked.\n",
    "# This also makes the onformation easier for the user to read.\n",
    "\n",
    "fig, (ax1, ax2, ax3, ax4) = plt.subplots(4, 1, figsize=(10, 20))\n",
    "\n",
    "# Create the first bar chart for the home types.\n",
    "ax1.bar(types, type_count)\n",
    "ax1.set_title(\"Home Types\")\n",
    "ax1.set_ylabel(\"Count\")\n",
    "\n",
    "# Create the second bar chart for the number of stories.\n",
    "ax2.bar(stories, stories_count)\n",
    "ax2.set_title(\"Stories\")\n",
    "ax2.set_xlabel(\"Number of Stories\")\n",
    "ax2.set_ylabel(\"Count\")\n",
    "\n",
    "# Create the third bar chart for the number bedrooms.\n",
    "ax3.bar(beds, beds_count)\n",
    "ax3.set_title(\"Beds\")\n",
    "ax3.set_xlabel(\"Number of Beds\")\n",
    "ax3.set_ylabel(\"Count\")\n",
    "\n",
    "# Create the fourt bar chart for the number of baths.\n",
    "ax4.bar(baths, baths_count)\n",
    "ax4.set_title(\"Baths\")\n",
    "ax4.set_xlabel(\"Number of Baths\")\n",
    "ax4.set_ylabel(\"Count\")\n",
    "\n",
    "plt.show()"
   ]
  },
  {
   "cell_type": "markdown",
   "id": "5921c421",
   "metadata": {},
   "source": [
    "Most of the homes in the area will be 2 bedroom and 3 bathroom single story single family homes. "
   ]
  },
  {
   "cell_type": "markdown",
   "id": "5b32c79f",
   "metadata": {},
   "source": [
    "With this informatioon we'd expect to see increases in home prices based on squarefootage, age and the number of bedrooms and bathrooms a home has."
   ]
  },
  {
   "cell_type": "code",
   "execution_count": 14,
   "id": "e8d5b79f",
   "metadata": {},
   "outputs": [],
   "source": [
    "# Create a new data frame without the columns containing text.\n",
    "\n",
    "housingNoStrings = housing.drop(['url', 'id', 'status', 'sub_type', 'text', 'type'], axis=1)"
   ]
  },
  {
   "cell_type": "code",
   "execution_count": 15,
   "id": "01ea47db",
   "metadata": {},
   "outputs": [],
   "source": [
    "# Create a correlation coefficient matrix of the data.\n",
    "\n",
    "corr_matrix = housingNoStrings.corr()"
   ]
  },
  {
   "cell_type": "code",
   "execution_count": 16,
   "id": "40dee7b9",
   "metadata": {},
   "outputs": [
    {
     "data": {
      "image/png": "[encoded data removed]",
      "text/plain": [
       "<Figure size 640x480 with 2 Axes>"
      ]
     },
     "metadata": {},
     "output_type": "display_data"
    }
   ],
   "source": [
    "# Plot the correlation coefficient matrix.\n",
    "\n",
    "sns.heatmap(corr_matrix, annot=True, cmap='Blues')\n",
    "plt.title(\"Correlation Coefficient Matrix\")\n",
    "plt.show()"
   ]
  },
  {
   "cell_type": "markdown",
   "id": "e80bb133",
   "metadata": {},
   "source": [
    "Based on the correlation coefficient matrix, the number of bathrooms has the weakest correlation with list price. This seems a but odd as the full bath counts have the strongest correlation with list prices. The next strongest correlation after these would be the number of beds. More exploration may be needed on the baths column. The mortgage company may value homes with square footage more as there's an opportunity to have more bathrooms in the house."
   ]
  },
  {
   "cell_type": "markdown",
   "id": "0ccffaec",
   "metadata": {},
   "source": [
    "$\\;\\;\\;\\;\\;\\;$Based on the information obtained from the visualizations we should be able to model the using linear regression based on the homes attributes. Since the home descriptions were provided as well we can use this to see if the description has an effect on the listing price of the home as well. The biggest factors thus far that would seem to impact the value of the home prices are bathroom and bedroom counts. However, these appear to be correlated with square footage as well, but squarefootage doesn't seem to have much affect on the listing price. based on the other visualizations, the most common home in the data set should be a  2020, 2,000 square feet, 3 bed, 2 baths, single story, single family home selling for around $400,000. "
   ]
  },
  {
   "cell_type": "markdown",
   "id": "a183af61",
   "metadata": {},
   "source": [
    "## Miletsone 2"
   ]
  },
  {
   "cell_type": "markdown",
   "id": "7f2add6c",
   "metadata": {},
   "source": [
    "### Dropping Features"
   ]
  },
  {
   "cell_type": "markdown",
   "id": "87f0e494",
   "metadata": {},
   "source": [
    "in the data set there are a couple of columns that provide no value to the list price of the home. These columns would be the URL, status and ID. These can be safely dropped from the dataframe. "
   ]
  },
  {
   "cell_type": "code",
   "execution_count": 17,
   "id": "6bd6d8ac",
   "metadata": {},
   "outputs": [
    {
     "data": {
      "text/html": [
       "<div>\n",
       "<style scoped>\n",
       "    .dataframe tbody tr th:only-of-type {\n",
       "        vertical-align: middle;\n",
       "    }\n",
       "\n",
       "    .dataframe tbody tr th {\n",
       "        vertical-align: top;\n",
       "    }\n",
       "\n",
       "    .dataframe thead th {\n",
       "        text-align: right;\n",
       "    }\n",
       "</style>\n",
       "<table border=\"1\" class=\"dataframe\">\n",
       "  <thead>\n",
       "    <tr style=\"text-align: right;\">\n",
       "      <th></th>\n",
       "      <th>listPrice</th>\n",
       "      <th>baths</th>\n",
       "      <th>baths_full</th>\n",
       "      <th>baths_full_calc</th>\n",
       "      <th>beds</th>\n",
       "      <th>sqft</th>\n",
       "      <th>stories</th>\n",
       "      <th>sub_type</th>\n",
       "      <th>text</th>\n",
       "      <th>type</th>\n",
       "      <th>year_built</th>\n",
       "    </tr>\n",
       "  </thead>\n",
       "  <tbody>\n",
       "    <tr>\n",
       "      <th>0</th>\n",
       "      <td>240000.0</td>\n",
       "      <td>2</td>\n",
       "      <td>2.0</td>\n",
       "      <td>2.0</td>\n",
       "      <td>3.0</td>\n",
       "      <td>1190.0</td>\n",
       "      <td>1.0</td>\n",
       "      <td>NaN</td>\n",
       "      <td>Welcome home to your peaceful retreat nestled ...</td>\n",
       "      <td>single_family</td>\n",
       "      <td>2018.0</td>\n",
       "    </tr>\n",
       "    <tr>\n",
       "      <th>1</th>\n",
       "      <td>379900.0</td>\n",
       "      <td>4</td>\n",
       "      <td>3.0</td>\n",
       "      <td>3.0</td>\n",
       "      <td>4.0</td>\n",
       "      <td>2033.0</td>\n",
       "      <td>1.0</td>\n",
       "      <td>NaN</td>\n",
       "      <td>Beautiful country home on 0.85 fenced acres, m...</td>\n",
       "      <td>single_family</td>\n",
       "      <td>2002.0</td>\n",
       "    </tr>\n",
       "    <tr>\n",
       "      <th>2</th>\n",
       "      <td>370000.0</td>\n",
       "      <td>2</td>\n",
       "      <td>2.0</td>\n",
       "      <td>2.0</td>\n",
       "      <td>4.0</td>\n",
       "      <td>2062.0</td>\n",
       "      <td>1.0</td>\n",
       "      <td>NaN</td>\n",
       "      <td>PRICED TO SELL CORNER LOT HAS A STORM SHELTER ...</td>\n",
       "      <td>single_family</td>\n",
       "      <td>2012.0</td>\n",
       "    </tr>\n",
       "    <tr>\n",
       "      <th>3</th>\n",
       "      <td>444000.0</td>\n",
       "      <td>4</td>\n",
       "      <td>3.0</td>\n",
       "      <td>3.0</td>\n",
       "      <td>5.0</td>\n",
       "      <td>3705.0</td>\n",
       "      <td>2.0</td>\n",
       "      <td>NaN</td>\n",
       "      <td>Come check out country living in the city! Are...</td>\n",
       "      <td>single_family</td>\n",
       "      <td>1985.0</td>\n",
       "    </tr>\n",
       "    <tr>\n",
       "      <th>4</th>\n",
       "      <td>569000.0</td>\n",
       "      <td>2</td>\n",
       "      <td>2.0</td>\n",
       "      <td>2.0</td>\n",
       "      <td>3.0</td>\n",
       "      <td>3282.0</td>\n",
       "      <td>2.0</td>\n",
       "      <td>NaN</td>\n",
       "      <td>Welcome to your dream retreat! Nestled on over...</td>\n",
       "      <td>single_family</td>\n",
       "      <td>1981.0</td>\n",
       "    </tr>\n",
       "  </tbody>\n",
       "</table>\n",
       "</div>"
      ],
      "text/plain": [
       "   listPrice  baths  baths_full  baths_full_calc  beds    sqft  stories  \\\n",
       "0   240000.0      2         2.0              2.0   3.0  1190.0      1.0   \n",
       "1   379900.0      4         3.0              3.0   4.0  2033.0      1.0   \n",
       "2   370000.0      2         2.0              2.0   4.0  2062.0      1.0   \n",
       "3   444000.0      4         3.0              3.0   5.0  3705.0      2.0   \n",
       "4   569000.0      2         2.0              2.0   3.0  3282.0      2.0   \n",
       "\n",
       "  sub_type                                               text           type  \\\n",
       "0      NaN  Welcome home to your peaceful retreat nestled ...  single_family   \n",
       "1      NaN  Beautiful country home on 0.85 fenced acres, m...  single_family   \n",
       "2      NaN  PRICED TO SELL CORNER LOT HAS A STORM SHELTER ...  single_family   \n",
       "3      NaN  Come check out country living in the city! Are...  single_family   \n",
       "4      NaN  Welcome to your dream retreat! Nestled on over...  single_family   \n",
       "\n",
       "   year_built  \n",
       "0      2018.0  \n",
       "1      2002.0  \n",
       "2      2012.0  \n",
       "3      1985.0  \n",
       "4      1981.0  "
      ]
     },
     "execution_count": 17,
     "metadata": {},
     "output_type": "execute_result"
    }
   ],
   "source": [
    "# dropping the columns that provide no insight for the model.\n",
    "housing = housing.drop(['url', 'status', 'id'], axis=1)\n",
    "housing.head()"
   ]
  },
  {
   "cell_type": "markdown",
   "id": "ad0e2350",
   "metadata": {},
   "source": [
    "We should also remove any column that has an excessive amount of NA values. For this we will consider any column to have more than 25% NA values excessive."
   ]
  },
  {
   "cell_type": "code",
   "execution_count": 18,
   "id": "45fde6d6",
   "metadata": {},
   "outputs": [
    {
     "data": {
      "text/html": [
       "<div>\n",
       "<style scoped>\n",
       "    .dataframe tbody tr th:only-of-type {\n",
       "        vertical-align: middle;\n",
       "    }\n",
       "\n",
       "    .dataframe tbody tr th {\n",
       "        vertical-align: top;\n",
       "    }\n",
       "\n",
       "    .dataframe thead th {\n",
       "        text-align: right;\n",
       "    }\n",
       "</style>\n",
       "<table border=\"1\" class=\"dataframe\">\n",
       "  <thead>\n",
       "    <tr style=\"text-align: right;\">\n",
       "      <th></th>\n",
       "      <th>listPrice</th>\n",
       "      <th>baths</th>\n",
       "      <th>baths_full</th>\n",
       "      <th>baths_full_calc</th>\n",
       "      <th>beds</th>\n",
       "      <th>sqft</th>\n",
       "      <th>stories</th>\n",
       "      <th>text</th>\n",
       "      <th>type</th>\n",
       "      <th>year_built</th>\n",
       "    </tr>\n",
       "  </thead>\n",
       "  <tbody>\n",
       "    <tr>\n",
       "      <th>0</th>\n",
       "      <td>240000.0</td>\n",
       "      <td>2</td>\n",
       "      <td>2.0</td>\n",
       "      <td>2.0</td>\n",
       "      <td>3.0</td>\n",
       "      <td>1190.0</td>\n",
       "      <td>1.0</td>\n",
       "      <td>Welcome home to your peaceful retreat nestled ...</td>\n",
       "      <td>single_family</td>\n",
       "      <td>2018.0</td>\n",
       "    </tr>\n",
       "    <tr>\n",
       "      <th>1</th>\n",
       "      <td>379900.0</td>\n",
       "      <td>4</td>\n",
       "      <td>3.0</td>\n",
       "      <td>3.0</td>\n",
       "      <td>4.0</td>\n",
       "      <td>2033.0</td>\n",
       "      <td>1.0</td>\n",
       "      <td>Beautiful country home on 0.85 fenced acres, m...</td>\n",
       "      <td>single_family</td>\n",
       "      <td>2002.0</td>\n",
       "    </tr>\n",
       "    <tr>\n",
       "      <th>2</th>\n",
       "      <td>370000.0</td>\n",
       "      <td>2</td>\n",
       "      <td>2.0</td>\n",
       "      <td>2.0</td>\n",
       "      <td>4.0</td>\n",
       "      <td>2062.0</td>\n",
       "      <td>1.0</td>\n",
       "      <td>PRICED TO SELL CORNER LOT HAS A STORM SHELTER ...</td>\n",
       "      <td>single_family</td>\n",
       "      <td>2012.0</td>\n",
       "    </tr>\n",
       "    <tr>\n",
       "      <th>3</th>\n",
       "      <td>444000.0</td>\n",
       "      <td>4</td>\n",
       "      <td>3.0</td>\n",
       "      <td>3.0</td>\n",
       "      <td>5.0</td>\n",
       "      <td>3705.0</td>\n",
       "      <td>2.0</td>\n",
       "      <td>Come check out country living in the city! Are...</td>\n",
       "      <td>single_family</td>\n",
       "      <td>1985.0</td>\n",
       "    </tr>\n",
       "    <tr>\n",
       "      <th>4</th>\n",
       "      <td>569000.0</td>\n",
       "      <td>2</td>\n",
       "      <td>2.0</td>\n",
       "      <td>2.0</td>\n",
       "      <td>3.0</td>\n",
       "      <td>3282.0</td>\n",
       "      <td>2.0</td>\n",
       "      <td>Welcome to your dream retreat! Nestled on over...</td>\n",
       "      <td>single_family</td>\n",
       "      <td>1981.0</td>\n",
       "    </tr>\n",
       "  </tbody>\n",
       "</table>\n",
       "</div>"
      ],
      "text/plain": [
       "   listPrice  baths  baths_full  baths_full_calc  beds    sqft  stories  \\\n",
       "0   240000.0      2         2.0              2.0   3.0  1190.0      1.0   \n",
       "1   379900.0      4         3.0              3.0   4.0  2033.0      1.0   \n",
       "2   370000.0      2         2.0              2.0   4.0  2062.0      1.0   \n",
       "3   444000.0      4         3.0              3.0   5.0  3705.0      2.0   \n",
       "4   569000.0      2         2.0              2.0   3.0  3282.0      2.0   \n",
       "\n",
       "                                                text           type  \\\n",
       "0  Welcome home to your peaceful retreat nestled ...  single_family   \n",
       "1  Beautiful country home on 0.85 fenced acres, m...  single_family   \n",
       "2  PRICED TO SELL CORNER LOT HAS A STORM SHELTER ...  single_family   \n",
       "3  Come check out country living in the city! Are...  single_family   \n",
       "4  Welcome to your dream retreat! Nestled on over...  single_family   \n",
       "\n",
       "   year_built  \n",
       "0      2018.0  \n",
       "1      2002.0  \n",
       "2      2012.0  \n",
       "3      1985.0  \n",
       "4      1981.0  "
      ]
     },
     "execution_count": 18,
     "metadata": {},
     "output_type": "execute_result"
    }
   ],
   "source": [
    "# The cutoff is 25% of the data in a column.\n",
    "cutoff = len(housing)*.25\n",
    "\n",
    "# A New dataframe is created with all features that comply with our restraint.\n",
    "housing = housing.dropna(thresh = cutoff, axis=1)\n",
    "housing.head()"
   ]
  },
  {
   "cell_type": "markdown",
   "id": "e5736354",
   "metadata": {},
   "source": [
    "There was only one column removed which was for subtype. This column seemed to be duplicated for the type column but with many missing values."
   ]
  },
  {
   "cell_type": "markdown",
   "id": "89175cac",
   "metadata": {},
   "source": [
    "### Splitting the dataset"
   ]
  },
  {
   "cell_type": "markdown",
   "id": "3fd09fdf",
   "metadata": {},
   "source": [
    "The text column may not help in the linear regression model. However, I don't intend on getting rid of them entirely. I will make a new text dataframe to hold these values. We can use this to model a bag of words matrix later on."
   ]
  },
  {
   "cell_type": "code",
   "execution_count": 19,
   "id": "f6873852",
   "metadata": {},
   "outputs": [],
   "source": [
    "# Make a subset datafram for the text column.\n",
    "textData = housing.loc[:, ['listPrice','text']]\n",
    "\n",
    "# Remove the NA rows of text. We want the comments to be prefilled. \n",
    "textData = textData.dropna(subset=[\"text\"])\n",
    "\n",
    "# Outliers currently exist in the prices. We will only remove the missing listPrice rows.\n",
    "# This will prevent the outliers from scewing the model.\n",
    "textData =textData.dropna(subset = [\"listPrice\"])"
   ]
  },
  {
   "cell_type": "markdown",
   "id": "9d3c68c9",
   "metadata": {},
   "source": [
    "Next we will drop the text data from our dataset."
   ]
  },
  {
   "cell_type": "code",
   "execution_count": 20,
   "id": "4c451db4",
   "metadata": {},
   "outputs": [],
   "source": [
    "# Drop the text column.\n",
    "housing = housing.drop('text', axis=1)"
   ]
  },
  {
   "cell_type": "markdown",
   "id": "3e9d34a7",
   "metadata": {},
   "source": [
    "### Dealing with the NA values."
   ]
  },
  {
   "cell_type": "code",
   "execution_count": 21,
   "id": "f8109521",
   "metadata": {},
   "outputs": [
    {
     "data": {
      "text/plain": [
       "listPrice            2\n",
       "baths                0\n",
       "baths_full          65\n",
       "baths_full_calc     65\n",
       "beds                61\n",
       "sqft                63\n",
       "stories            110\n",
       "type                 0\n",
       "year_built         212\n",
       "dtype: int64"
      ]
     },
     "execution_count": 21,
     "metadata": {},
     "output_type": "execute_result"
    }
   ],
   "source": [
    "housing.isna().sum()"
   ]
  },
  {
   "cell_type": "markdown",
   "id": "556a5ca0",
   "metadata": {},
   "source": [
    "With regard to the NA values in the list price. These are causing erros when completing the Z-score for outliers. To prevent a scew of list price with these outliers we will need to remove these rows. The remaining NA values should be filled by using the mean of their respective columns."
   ]
  },
  {
   "cell_type": "code",
   "execution_count": 22,
   "id": "b4c14cdd",
   "metadata": {},
   "outputs": [],
   "source": [
    "# Drop the rows that contain an NA value in the list price.\n",
    "housing = housing.dropna(subset = [\"listPrice\"])"
   ]
  },
  {
   "cell_type": "code",
   "execution_count": 23,
   "id": "d97ec9a9",
   "metadata": {},
   "outputs": [],
   "source": [
    "# Replace missing values for square footage with the mean square footage.\n",
    "housing.loc[pd.isnull(housing['sqft']), 'sqft'] = np.mean(housing['sqft'])\n",
    "\n",
    "# Replace missing values for full baths with the mean full baths.\n",
    "housing.loc[pd.isnull(housing['baths_full']), 'baths_full'] = np.mean(housing['baths_full'])\n",
    "\n",
    "# Replace missing values for baths_full_calc with the mean baths_full_calc.\n",
    "housing.loc[pd.isnull(housing['baths_full_calc']), 'baths_full_calc'] = np.mean(housing['baths_full_calc'])\n",
    "\n",
    "# Replace missing values for beds with the mean beds.\n",
    "housing.loc[pd.isnull(housing['beds']), 'beds'] = np.mean(housing['beds'])\n",
    "\n",
    "# Replace missing values for stories with the mean stories.\n",
    "housing.loc[pd.isnull(housing['stories']), 'stories'] = np.mean(housing['stories'])\n",
    "\n",
    "# Replace missing values for year built with the mean year built.\n",
    "housing.loc[pd.isnull(housing['year_built']), 'year_built'] = np.mean(housing['year_built'])"
   ]
  },
  {
   "cell_type": "markdown",
   "id": "8b6b035d",
   "metadata": {},
   "source": [
    "### Removing outliers"
   ]
  },
  {
   "cell_type": "markdown",
   "id": "f3c5ce81",
   "metadata": {},
   "source": [
    "Now that the missing values for the list price are handled we can work on the outliers. Based on the graph below we have what appears to be a lot of outliers."
   ]
  },
  {
   "cell_type": "code",
   "execution_count": 24,
   "id": "35f28058",
   "metadata": {},
   "outputs": [
    {
     "data": {
      "image/png": "[encoded data removed]",
      "text/plain": [
       "<Figure size 640x480 with 1 Axes>"
      ]
     },
     "metadata": {},
     "output_type": "display_data"
    }
   ],
   "source": [
    "# Create a boxplot of the list values to show outliers.\n",
    "\n",
    "sns.boxplot(housing['listPrice'])\n",
    "plt.title(\"Housing List Prices\")\n",
    "plt.show()"
   ]
  },
  {
   "cell_type": "markdown",
   "id": "4b866bd8",
   "metadata": {},
   "source": [
    "First we will obtain the z-scores for the data."
   ]
  },
  {
   "cell_type": "code",
   "execution_count": 25,
   "id": "30cf4b40",
   "metadata": {},
   "outputs": [],
   "source": [
    "z = np.abs(stats.zscore(housing['listPrice']))"
   ]
  },
  {
   "cell_type": "markdown",
   "id": "c4bff474",
   "metadata": {},
   "source": [
    "Usually a z-score of 2 is used to remove outliers. However, above on the image below this data set has multiple outliers. The lowest I'm able to reduce the threshold is to one half."
   ]
  },
  {
   "cell_type": "code",
   "execution_count": 26,
   "id": "90f2c5c0",
   "metadata": {},
   "outputs": [
    {
     "name": "stdout",
     "output_type": "stream",
     "text": [
      "Original DataFrame Shape: (499, 9)\n",
      "DataFrame Shape after Removing Outliers: (478, 9)\n"
     ]
    }
   ],
   "source": [
    "# Set the z threshold to 0.5 \n",
    "thresholdZ = .5\n",
    "\n",
    "# Outliers in the data are any z score above this threshhold\n",
    "outliers = np.where(z > thresholdZ)[0]\n",
    "\n",
    "# Set a data frame to drop the outliers from the data.\n",
    "newHousing = housing.drop(outliers)\n",
    "print(\"Original DataFrame Shape:\", housing.shape)\n",
    "print(\"DataFrame Shape after Removing Outliers:\", newHousing.shape)"
   ]
  },
  {
   "cell_type": "markdown",
   "id": "046eb028",
   "metadata": {},
   "source": [
    "This data may contain outliers still. as a precaution I will make a new data frame removing luxary homes. We will consider any home $1,000,000 or greater luxary."
   ]
  },
  {
   "cell_type": "code",
   "execution_count": 27,
   "id": "3961834d",
   "metadata": {},
   "outputs": [],
   "source": [
    "# Making a data frame that has no luxary homes.\n",
    "noLuxHomes = housing[housing['listPrice'] <= 1000000]"
   ]
  },
  {
   "cell_type": "markdown",
   "id": "00646171",
   "metadata": {},
   "source": [
    "We should also make a no luxary homes data frame for the text data as well. Most prices above $1,000,000 appeared to be outliers in the data."
   ]
  },
  {
   "cell_type": "code",
   "execution_count": 28,
   "id": "e3f7b5ba",
   "metadata": {},
   "outputs": [],
   "source": [
    "# Remove the homes over $1,000,000 from the text data frame. \n",
    "textData = textData[textData['listPrice'] <= 1000000]"
   ]
  },
  {
   "cell_type": "markdown",
   "id": "f35714c0",
   "metadata": {},
   "source": [
    "### Create dummy variables"
   ]
  },
  {
   "cell_type": "markdown",
   "id": "9a4e4c54",
   "metadata": {},
   "source": [
    "Next we will want to create dummy variables for categorical data in both the housing and no luxary homes data sets."
   ]
  },
  {
   "cell_type": "code",
   "execution_count": 29,
   "id": "1202aa19",
   "metadata": {},
   "outputs": [],
   "source": [
    "# Creating dummy variables over the data sets for any categorical columns.\n",
    "\n",
    "newHousing = pd.get_dummies(newHousing, drop_first=True)\n",
    "noLuxHomes = pd.get_dummies(noLuxHomes, drop_first=True)"
   ]
  },
  {
   "cell_type": "markdown",
   "id": "c3576704",
   "metadata": {},
   "source": [
    "### Prepping for modeling"
   ]
  },
  {
   "cell_type": "markdown",
   "id": "eda8d835",
   "metadata": {},
   "source": [
    "Now that the data sets are cleaned we can prepare them for modeling. First we need to clean up the text data a little more."
   ]
  },
  {
   "cell_type": "markdown",
   "id": "98ed5ea4",
   "metadata": {},
   "source": [
    "#### Preparing the text data for custom modeling. "
   ]
  },
  {
   "cell_type": "markdown",
   "id": "348e6cc4",
   "metadata": {},
   "source": [
    "The first step in this process is to remove the punctuation."
   ]
  },
  {
   "cell_type": "code",
   "execution_count": 30,
   "id": "059f4b9d",
   "metadata": {},
   "outputs": [],
   "source": [
    "# Making a new column with the punctuation removed from the text data.\n",
    "\n",
    "textData['cleaned'] = textData['text'].apply(lambda x: remove_punctuation(x))"
   ]
  },
  {
   "cell_type": "markdown",
   "id": "d2fe16f0",
   "metadata": {},
   "source": [
    "Next, we want to tokenize the words, which will split the text into individual words."
   ]
  },
  {
   "cell_type": "code",
   "execution_count": 31,
   "id": "15a7b2d1",
   "metadata": {},
   "outputs": [],
   "source": [
    "# Make a new column to hold tokenized words.\n",
    "\n",
    "textData['tokenized'] = textData['cleaned'].apply(lambda rev: word_tokenize(rev))"
   ]
  },
  {
   "cell_type": "markdown",
   "id": "e629fa3b",
   "metadata": {},
   "source": [
    "Now that the words have been tokenized we can remove the stop words from the nltk corpus."
   ]
  },
  {
   "cell_type": "code",
   "execution_count": 32,
   "id": "d9af5e55",
   "metadata": {},
   "outputs": [],
   "source": [
    "# Set stop words to a variable. This allows it to used in apply.\n",
    "stop_words = set(stopwords.words('english'))\n",
    "\n",
    "# Make a new column with the stop words removed.\n",
    "textData['no_stop'] = textData['tokenized'].apply(lambda x: remove_stop(x))"
   ]
  },
  {
   "cell_type": "markdown",
   "id": "e1f973f9",
   "metadata": {},
   "source": [
    "Now we want to apply port stemmer to the words. This will leave us with only the stem of the word."
   ]
  },
  {
   "cell_type": "code",
   "execution_count": 33,
   "id": "011e7525",
   "metadata": {},
   "outputs": [],
   "source": [
    "# Set port stemmer to a variable.\n",
    "porter = PorterStemmer()\n",
    "\n",
    "# Make a new column applying the port stemmer to the previous column.\n",
    "textData['stemmed'] = textData['no_stop'].apply(lambda x: stemmer(x))"
   ]
  },
  {
   "cell_type": "markdown",
   "id": "05ad6b7a",
   "metadata": {},
   "source": [
    "The words have been stemmed but this left us with a list of words in the data frame. We will need to join them together and remove them from the list."
   ]
  },
  {
   "cell_type": "code",
   "execution_count": 34,
   "id": "c789b245",
   "metadata": {},
   "outputs": [
    {
     "data": {
      "text/html": [
       "<div>\n",
       "<style scoped>\n",
       "    .dataframe tbody tr th:only-of-type {\n",
       "        vertical-align: middle;\n",
       "    }\n",
       "\n",
       "    .dataframe tbody tr th {\n",
       "        vertical-align: top;\n",
       "    }\n",
       "\n",
       "    .dataframe thead th {\n",
       "        text-align: right;\n",
       "    }\n",
       "</style>\n",
       "<table border=\"1\" class=\"dataframe\">\n",
       "  <thead>\n",
       "    <tr style=\"text-align: right;\">\n",
       "      <th></th>\n",
       "      <th>listPrice</th>\n",
       "      <th>text</th>\n",
       "      <th>cleaned</th>\n",
       "      <th>tokenized</th>\n",
       "      <th>no_stop</th>\n",
       "      <th>stemmed</th>\n",
       "    </tr>\n",
       "  </thead>\n",
       "  <tbody>\n",
       "    <tr>\n",
       "      <th>0</th>\n",
       "      <td>240000.0</td>\n",
       "      <td>Welcome home to your peaceful retreat nestled ...</td>\n",
       "      <td>Welcome home to your peaceful retreat nestled ...</td>\n",
       "      <td>[Welcome, home, to, your, peaceful, retreat, n...</td>\n",
       "      <td>[Welcome, home, peaceful, retreat, nestled, 2,...</td>\n",
       "      <td>welcom home peac retreat nestl 2 acr beauti la...</td>\n",
       "    </tr>\n",
       "    <tr>\n",
       "      <th>1</th>\n",
       "      <td>379900.0</td>\n",
       "      <td>Beautiful country home on 0.85 fenced acres, m...</td>\n",
       "      <td>Beautiful country home on 085 fenced acres min...</td>\n",
       "      <td>[Beautiful, country, home, on, 085, fenced, ac...</td>\n",
       "      <td>[Beautiful, country, home, 085, fenced, acres,...</td>\n",
       "      <td>beauti countri home 085 fenc acr minut athen a...</td>\n",
       "    </tr>\n",
       "    <tr>\n",
       "      <th>2</th>\n",
       "      <td>370000.0</td>\n",
       "      <td>PRICED TO SELL CORNER LOT HAS A STORM SHELTER ...</td>\n",
       "      <td>PRICED TO SELL CORNER LOT HAS A STORM SHELTER ...</td>\n",
       "      <td>[PRICED, TO, SELL, CORNER, LOT, HAS, A, STORM,...</td>\n",
       "      <td>[PRICED, TO, SELL, CORNER, LOT, HAS, A, STORM,...</td>\n",
       "      <td>price to sell corner lot ha a storm shelter in...</td>\n",
       "    </tr>\n",
       "    <tr>\n",
       "      <th>3</th>\n",
       "      <td>444000.0</td>\n",
       "      <td>Come check out country living in the city! Are...</td>\n",
       "      <td>Come check out country living in the city Are ...</td>\n",
       "      <td>[Come, check, out, country, living, in, the, c...</td>\n",
       "      <td>[Come, check, country, living, city, Are, look...</td>\n",
       "      <td>come check countri live citi are look larg fam...</td>\n",
       "    </tr>\n",
       "    <tr>\n",
       "      <th>4</th>\n",
       "      <td>569000.0</td>\n",
       "      <td>Welcome to your dream retreat! Nestled on over...</td>\n",
       "      <td>Welcome to your dream retreat Nestled on over ...</td>\n",
       "      <td>[Welcome, to, your, dream, retreat, Nestled, o...</td>\n",
       "      <td>[Welcome, dream, retreat, Nestled, 7, acres, s...</td>\n",
       "      <td>welcom dream retreat nestl 7 acr seclud land a...</td>\n",
       "    </tr>\n",
       "  </tbody>\n",
       "</table>\n",
       "</div>"
      ],
      "text/plain": [
       "   listPrice                                               text  \\\n",
       "0   240000.0  Welcome home to your peaceful retreat nestled ...   \n",
       "1   379900.0  Beautiful country home on 0.85 fenced acres, m...   \n",
       "2   370000.0  PRICED TO SELL CORNER LOT HAS A STORM SHELTER ...   \n",
       "3   444000.0  Come check out country living in the city! Are...   \n",
       "4   569000.0  Welcome to your dream retreat! Nestled on over...   \n",
       "\n",
       "                                             cleaned  \\\n",
       "0  Welcome home to your peaceful retreat nestled ...   \n",
       "1  Beautiful country home on 085 fenced acres min...   \n",
       "2  PRICED TO SELL CORNER LOT HAS A STORM SHELTER ...   \n",
       "3  Come check out country living in the city Are ...   \n",
       "4  Welcome to your dream retreat Nestled on over ...   \n",
       "\n",
       "                                           tokenized  \\\n",
       "0  [Welcome, home, to, your, peaceful, retreat, n...   \n",
       "1  [Beautiful, country, home, on, 085, fenced, ac...   \n",
       "2  [PRICED, TO, SELL, CORNER, LOT, HAS, A, STORM,...   \n",
       "3  [Come, check, out, country, living, in, the, c...   \n",
       "4  [Welcome, to, your, dream, retreat, Nestled, o...   \n",
       "\n",
       "                                             no_stop  \\\n",
       "0  [Welcome, home, peaceful, retreat, nestled, 2,...   \n",
       "1  [Beautiful, country, home, 085, fenced, acres,...   \n",
       "2  [PRICED, TO, SELL, CORNER, LOT, HAS, A, STORM,...   \n",
       "3  [Come, check, country, living, city, Are, look...   \n",
       "4  [Welcome, dream, retreat, Nestled, 7, acres, s...   \n",
       "\n",
       "                                             stemmed  \n",
       "0  welcom home peac retreat nestl 2 acr beauti la...  \n",
       "1  beauti countri home 085 fenc acr minut athen a...  \n",
       "2  price to sell corner lot ha a storm shelter in...  \n",
       "3  come check countri live citi are look larg fam...  \n",
       "4  welcom dream retreat nestl 7 acr seclud land a...  "
      ]
     },
     "execution_count": 34,
     "metadata": {},
     "output_type": "execute_result"
    }
   ],
   "source": [
    "# use join to join the list of words in each row.\n",
    "textData['stemmed'] = textData['stemmed'].apply(lambda x: ' '.join(map(str, x)))\n",
    "textData.head()"
   ]
  },
  {
   "cell_type": "markdown",
   "id": "cc6c8652",
   "metadata": {},
   "source": [
    "The text data is now ready for use in a custom model. However, we will only keep the final stemmed column and the home values."
   ]
  },
  {
   "cell_type": "code",
   "execution_count": 35,
   "id": "55eff2d8",
   "metadata": {},
   "outputs": [
    {
     "data": {
      "text/html": [
       "<div>\n",
       "<style scoped>\n",
       "    .dataframe tbody tr th:only-of-type {\n",
       "        vertical-align: middle;\n",
       "    }\n",
       "\n",
       "    .dataframe tbody tr th {\n",
       "        vertical-align: top;\n",
       "    }\n",
       "\n",
       "    .dataframe thead th {\n",
       "        text-align: right;\n",
       "    }\n",
       "</style>\n",
       "<table border=\"1\" class=\"dataframe\">\n",
       "  <thead>\n",
       "    <tr style=\"text-align: right;\">\n",
       "      <th></th>\n",
       "      <th>listPrice</th>\n",
       "      <th>stemmed</th>\n",
       "    </tr>\n",
       "  </thead>\n",
       "  <tbody>\n",
       "    <tr>\n",
       "      <th>0</th>\n",
       "      <td>240000.0</td>\n",
       "      <td>welcom home peac retreat nestl 2 acr beauti la...</td>\n",
       "    </tr>\n",
       "    <tr>\n",
       "      <th>1</th>\n",
       "      <td>379900.0</td>\n",
       "      <td>beauti countri home 085 fenc acr minut athen a...</td>\n",
       "    </tr>\n",
       "    <tr>\n",
       "      <th>2</th>\n",
       "      <td>370000.0</td>\n",
       "      <td>price to sell corner lot ha a storm shelter in...</td>\n",
       "    </tr>\n",
       "    <tr>\n",
       "      <th>3</th>\n",
       "      <td>444000.0</td>\n",
       "      <td>come check countri live citi are look larg fam...</td>\n",
       "    </tr>\n",
       "    <tr>\n",
       "      <th>4</th>\n",
       "      <td>569000.0</td>\n",
       "      <td>welcom dream retreat nestl 7 acr seclud land a...</td>\n",
       "    </tr>\n",
       "  </tbody>\n",
       "</table>\n",
       "</div>"
      ],
      "text/plain": [
       "   listPrice                                            stemmed\n",
       "0   240000.0  welcom home peac retreat nestl 2 acr beauti la...\n",
       "1   379900.0  beauti countri home 085 fenc acr minut athen a...\n",
       "2   370000.0  price to sell corner lot ha a storm shelter in...\n",
       "3   444000.0  come check countri live citi are look larg fam...\n",
       "4   569000.0  welcom dream retreat nestl 7 acr seclud land a..."
      ]
     },
     "execution_count": 35,
     "metadata": {},
     "output_type": "execute_result"
    }
   ],
   "source": [
    "# Remove all columns but the listPrice and the stemmed columns.\n",
    "textData = textData.drop(['text', 'cleaned', 'tokenized', 'no_stop'], axis=1)\n",
    "textData.head()"
   ]
  },
  {
   "cell_type": "markdown",
   "id": "2bf4088d",
   "metadata": {},
   "source": [
    "#### feature selection on housing data"
   ]
  },
  {
   "cell_type": "markdown",
   "id": "fa8339f0",
   "metadata": {},
   "source": [
    "From here we will split the data into testing and training sets. "
   ]
  },
  {
   "cell_type": "code",
   "execution_count": 36,
   "id": "fc960eaf",
   "metadata": {},
   "outputs": [],
   "source": [
    "# The target values are the sales price.\n",
    "target = 'listPrice'\n",
    "\n",
    "# The features are the remaining columns minus the sales price.\n",
    "features = newHousing.drop(target, axis=1)\n",
    "\n",
    "#Split the data into testing anf training sets.\n",
    "X_train, X_test, y_train, y_test = train_test_split(features, newHousing[target], test_size=0.2, random_state=11)\n"
   ]
  },
  {
   "cell_type": "code",
   "execution_count": 37,
   "id": "6500f5fa",
   "metadata": {},
   "outputs": [],
   "source": [
    "# The target values are the sales price.\n",
    "target = 'listPrice'\n",
    "\n",
    "# The features are the remaining columns minus the sales price.\n",
    "features = noLuxHomes.drop(target, axis=1)\n",
    "\n",
    "#Split the data into testing anf training sets.\n",
    "X_train_noLux, X_test_noLux, y_train_noLux, y_test_noLux = train_test_split(features, \n",
    "                                                                            noLuxHomes[target], \n",
    "                                                                            test_size=0.2, \n",
    "                                                                           random_state=11)"
   ]
  },
  {
   "cell_type": "markdown",
   "id": "7f0d3fcd",
   "metadata": {},
   "source": [
    "The data has now been cleaned, outliers removed and is ready for the modeling process."
   ]
  },
  {
   "cell_type": "markdown",
   "id": "b30d66d5",
   "metadata": {},
   "source": [
    "## Miletsone 3: Modeling"
   ]
  },
  {
   "cell_type": "markdown",
   "id": "4411bdd1",
   "metadata": {},
   "source": [
    "For the first step in this process I'll be using a linear regression model. I chose this model since one or more variables could affect the cost of a home. This typ of model also is more suitable for predicting futrue prices."
   ]
  },
  {
   "cell_type": "markdown",
   "id": "81f86234",
   "metadata": {},
   "source": [
    "Step 1: We need to mke the linear regression model and fit this training data to it."
   ]
  },
  {
   "cell_type": "code",
   "execution_count": 38,
   "id": "1e1b7840",
   "metadata": {},
   "outputs": [
    {
     "data": {
      "text/html": [
       "<style>#sk-container-id-1 {color: black;}#sk-container-id-1 pre{padding: 0;}#sk-container-id-1 div.sk-toggleable {background-color: white;}#sk-container-id-1 label.sk-toggleable__label {cursor: pointer;display: block;width: 100%;margin-bottom: 0;padding: 0.3em;box-sizing: border-box;text-align: center;}#sk-container-id-1 label.sk-toggleable__label-arrow:before {content: \"▸\";float: left;margin-right: 0.25em;color: #696969;}#sk-container-id-1 label.sk-toggleable__label-arrow:hover:before {color: black;}#sk-container-id-1 div.sk-estimator:hover label.sk-toggleable__label-arrow:before {color: black;}#sk-container-id-1 div.sk-toggleable__content {max-height: 0;max-width: 0;overflow: hidden;text-align: left;background-color: #f0f8ff;}#sk-container-id-1 div.sk-toggleable__content pre {margin: 0.2em;color: black;border-radius: 0.25em;background-color: #f0f8ff;}#sk-container-id-1 input.sk-toggleable__control:checked~div.sk-toggleable__content {max-height: 200px;max-width: 100%;overflow: auto;}#sk-container-id-1 input.sk-toggleable__control:checked~label.sk-toggleable__label-arrow:before {content: \"▾\";}#sk-container-id-1 div.sk-estimator input.sk-toggleable__control:checked~label.sk-toggleable__label {background-color: #d4ebff;}#sk-container-id-1 div.sk-label input.sk-toggleable__control:checked~label.sk-toggleable__label {background-color: #d4ebff;}#sk-container-id-1 input.sk-hidden--visually {border: 0;clip: rect(1px 1px 1px 1px);clip: rect(1px, 1px, 1px, 1px);height: 1px;margin: -1px;overflow: hidden;padding: 0;position: absolute;width: 1px;}#sk-container-id-1 div.sk-estimator {font-family: monospace;background-color: #f0f8ff;border: 1px dotted black;border-radius: 0.25em;box-sizing: border-box;margin-bottom: 0.5em;}#sk-container-id-1 div.sk-estimator:hover {background-color: #d4ebff;}#sk-container-id-1 div.sk-parallel-item::after {content: \"\";width: 100%;border-bottom: 1px solid gray;flex-grow: 1;}#sk-container-id-1 div.sk-label:hover label.sk-toggleable__label {background-color: #d4ebff;}#sk-container-id-1 div.sk-serial::before {content: \"\";position: absolute;border-left: 1px solid gray;box-sizing: border-box;top: 0;bottom: 0;left: 50%;z-index: 0;}#sk-container-id-1 div.sk-serial {display: flex;flex-direction: column;align-items: center;background-color: white;padding-right: 0.2em;padding-left: 0.2em;position: relative;}#sk-container-id-1 div.sk-item {position: relative;z-index: 1;}#sk-container-id-1 div.sk-parallel {display: flex;align-items: stretch;justify-content: center;background-color: white;position: relative;}#sk-container-id-1 div.sk-item::before, #sk-container-id-1 div.sk-parallel-item::before {content: \"\";position: absolute;border-left: 1px solid gray;box-sizing: border-box;top: 0;bottom: 0;left: 50%;z-index: -1;}#sk-container-id-1 div.sk-parallel-item {display: flex;flex-direction: column;z-index: 1;position: relative;background-color: white;}#sk-container-id-1 div.sk-parallel-item:first-child::after {align-self: flex-end;width: 50%;}#sk-container-id-1 div.sk-parallel-item:last-child::after {align-self: flex-start;width: 50%;}#sk-container-id-1 div.sk-parallel-item:only-child::after {width: 0;}#sk-container-id-1 div.sk-dashed-wrapped {border: 1px dashed gray;margin: 0 0.4em 0.5em 0.4em;box-sizing: border-box;padding-bottom: 0.4em;background-color: white;}#sk-container-id-1 div.sk-label label {font-family: monospace;font-weight: bold;display: inline-block;line-height: 1.2em;}#sk-container-id-1 div.sk-label-container {text-align: center;}#sk-container-id-1 div.sk-container {/* jupyter's `normalize.less` sets `[hidden] { display: none; }` but bootstrap.min.css set `[hidden] { display: none !important; }` so we also need the `!important` here to be able to override the default hidden behavior on the sphinx rendered scikit-learn.org. See: https://github.com/scikit-learn/scikit-learn/issues/21755 */display: inline-block !important;position: relative;}#sk-container-id-1 div.sk-text-repr-fallback {display: none;}</style><div id=\"sk-container-id-1\" class=\"sk-top-container\"><div class=\"sk-text-repr-fallback\"><pre>LinearRegression()</pre><b>In a Jupyter environment, please rerun this cell to show the HTML representation or trust the notebook. <br />On GitHub, the HTML representation is unable to render, please try loading this page with nbviewer.org.</b></div><div class=\"sk-container\" hidden><div class=\"sk-item\"><div class=\"sk-estimator sk-toggleable\"><input class=\"sk-toggleable__control sk-hidden--visually\" id=\"sk-estimator-id-1\" type=\"checkbox\" checked><label for=\"sk-estimator-id-1\" class=\"sk-toggleable__label sk-toggleable__label-arrow\">LinearRegression</label><div class=\"sk-toggleable__content\"><pre>LinearRegression()</pre></div></div></div></div></div>"
      ],
      "text/plain": [
       "LinearRegression()"
      ]
     },
     "execution_count": 38,
     "metadata": {},
     "output_type": "execute_result"
    }
   ],
   "source": [
    "# Assign the linear regression function to a variable.\n",
    "linear_model = LinearRegression()\n",
    "\n",
    "# fit the training data to the model.\n",
    "linear_model.fit(X_train, y_train)"
   ]
  },
  {
   "cell_type": "markdown",
   "id": "bed3f129",
   "metadata": {},
   "source": [
    "Step 2: Find the predicted home values of the model using the hold out features in X_test"
   ]
  },
  {
   "cell_type": "code",
   "execution_count": 39,
   "id": "ba356252",
   "metadata": {},
   "outputs": [],
   "source": [
    "# Obtain the predictions from the model using X_test.\n",
    "testpred = linear_model.predict(X_test)"
   ]
  },
  {
   "cell_type": "markdown",
   "id": "44d3b3bf",
   "metadata": {},
   "source": [
    "Step3: Check the sccuracy of the model using the RMSE and r2"
   ]
  },
  {
   "cell_type": "markdown",
   "id": "04a2a6eb",
   "metadata": {},
   "source": [
    "RMSE and R2 were chosen as I couldn't use the accuracy function on the model since this can't be used on the regression model."
   ]
  },
  {
   "cell_type": "code",
   "execution_count": 40,
   "id": "16397341",
   "metadata": {},
   "outputs": [],
   "source": [
    "# Calculate the r2 and RMSE of the model since this is linear regression.\n",
    "r2 = r2_score(y_test, testpred)\n",
    "rmse = np.sqrt(mean_squared_error(y_test, testpred))"
   ]
  },
  {
   "cell_type": "code",
   "execution_count": 41,
   "id": "c00e31e8",
   "metadata": {},
   "outputs": [
    {
     "name": "stdout",
     "output_type": "stream",
     "text": [
      "The r2 value of this model is 0.13326751426889993\n"
     ]
    }
   ],
   "source": [
    "print(f\"The r2 value of this model is {r2}\")"
   ]
  },
  {
   "cell_type": "code",
   "execution_count": 42,
   "id": "b8b4e814",
   "metadata": {},
   "outputs": [
    {
     "name": "stdout",
     "output_type": "stream",
     "text": [
      "The rmse of this model is 288495.83191231644\n"
     ]
    }
   ],
   "source": [
    "print(f\"The rmse of this model is {rmse}\")"
   ]
  },
  {
   "cell_type": "markdown",
   "id": "4763b690",
   "metadata": {},
   "source": [
    "The RMSE value on the the model using all the housing data is quie high and the the r2 value is low. This would mean that the model doesn't model the data very well. This could be due to additional outliers in the data. We should check the no luxary home data next to see if removing luxary homes helps the model. We will follow the same steps as we did here."
   ]
  },
  {
   "cell_type": "markdown",
   "id": "60fb1de7",
   "metadata": {},
   "source": [
    "### No luxary homes model"
   ]
  },
  {
   "cell_type": "code",
   "execution_count": 43,
   "id": "a9063590",
   "metadata": {},
   "outputs": [
    {
     "data": {
      "text/html": [
       "<style>#sk-container-id-2 {color: black;}#sk-container-id-2 pre{padding: 0;}#sk-container-id-2 div.sk-toggleable {background-color: white;}#sk-container-id-2 label.sk-toggleable__label {cursor: pointer;display: block;width: 100%;margin-bottom: 0;padding: 0.3em;box-sizing: border-box;text-align: center;}#sk-container-id-2 label.sk-toggleable__label-arrow:before {content: \"▸\";float: left;margin-right: 0.25em;color: #696969;}#sk-container-id-2 label.sk-toggleable__label-arrow:hover:before {color: black;}#sk-container-id-2 div.sk-estimator:hover label.sk-toggleable__label-arrow:before {color: black;}#sk-container-id-2 div.sk-toggleable__content {max-height: 0;max-width: 0;overflow: hidden;text-align: left;background-color: #f0f8ff;}#sk-container-id-2 div.sk-toggleable__content pre {margin: 0.2em;color: black;border-radius: 0.25em;background-color: #f0f8ff;}#sk-container-id-2 input.sk-toggleable__control:checked~div.sk-toggleable__content {max-height: 200px;max-width: 100%;overflow: auto;}#sk-container-id-2 input.sk-toggleable__control:checked~label.sk-toggleable__label-arrow:before {content: \"▾\";}#sk-container-id-2 div.sk-estimator input.sk-toggleable__control:checked~label.sk-toggleable__label {background-color: #d4ebff;}#sk-container-id-2 div.sk-label input.sk-toggleable__control:checked~label.sk-toggleable__label {background-color: #d4ebff;}#sk-container-id-2 input.sk-hidden--visually {border: 0;clip: rect(1px 1px 1px 1px);clip: rect(1px, 1px, 1px, 1px);height: 1px;margin: -1px;overflow: hidden;padding: 0;position: absolute;width: 1px;}#sk-container-id-2 div.sk-estimator {font-family: monospace;background-color: #f0f8ff;border: 1px dotted black;border-radius: 0.25em;box-sizing: border-box;margin-bottom: 0.5em;}#sk-container-id-2 div.sk-estimator:hover {background-color: #d4ebff;}#sk-container-id-2 div.sk-parallel-item::after {content: \"\";width: 100%;border-bottom: 1px solid gray;flex-grow: 1;}#sk-container-id-2 div.sk-label:hover label.sk-toggleable__label {background-color: #d4ebff;}#sk-container-id-2 div.sk-serial::before {content: \"\";position: absolute;border-left: 1px solid gray;box-sizing: border-box;top: 0;bottom: 0;left: 50%;z-index: 0;}#sk-container-id-2 div.sk-serial {display: flex;flex-direction: column;align-items: center;background-color: white;padding-right: 0.2em;padding-left: 0.2em;position: relative;}#sk-container-id-2 div.sk-item {position: relative;z-index: 1;}#sk-container-id-2 div.sk-parallel {display: flex;align-items: stretch;justify-content: center;background-color: white;position: relative;}#sk-container-id-2 div.sk-item::before, #sk-container-id-2 div.sk-parallel-item::before {content: \"\";position: absolute;border-left: 1px solid gray;box-sizing: border-box;top: 0;bottom: 0;left: 50%;z-index: -1;}#sk-container-id-2 div.sk-parallel-item {display: flex;flex-direction: column;z-index: 1;position: relative;background-color: white;}#sk-container-id-2 div.sk-parallel-item:first-child::after {align-self: flex-end;width: 50%;}#sk-container-id-2 div.sk-parallel-item:last-child::after {align-self: flex-start;width: 50%;}#sk-container-id-2 div.sk-parallel-item:only-child::after {width: 0;}#sk-container-id-2 div.sk-dashed-wrapped {border: 1px dashed gray;margin: 0 0.4em 0.5em 0.4em;box-sizing: border-box;padding-bottom: 0.4em;background-color: white;}#sk-container-id-2 div.sk-label label {font-family: monospace;font-weight: bold;display: inline-block;line-height: 1.2em;}#sk-container-id-2 div.sk-label-container {text-align: center;}#sk-container-id-2 div.sk-container {/* jupyter's `normalize.less` sets `[hidden] { display: none; }` but bootstrap.min.css set `[hidden] { display: none !important; }` so we also need the `!important` here to be able to override the default hidden behavior on the sphinx rendered scikit-learn.org. See: https://github.com/scikit-learn/scikit-learn/issues/21755 */display: inline-block !important;position: relative;}#sk-container-id-2 div.sk-text-repr-fallback {display: none;}</style><div id=\"sk-container-id-2\" class=\"sk-top-container\"><div class=\"sk-text-repr-fallback\"><pre>LinearRegression()</pre><b>In a Jupyter environment, please rerun this cell to show the HTML representation or trust the notebook. <br />On GitHub, the HTML representation is unable to render, please try loading this page with nbviewer.org.</b></div><div class=\"sk-container\" hidden><div class=\"sk-item\"><div class=\"sk-estimator sk-toggleable\"><input class=\"sk-toggleable__control sk-hidden--visually\" id=\"sk-estimator-id-2\" type=\"checkbox\" checked><label for=\"sk-estimator-id-2\" class=\"sk-toggleable__label sk-toggleable__label-arrow\">LinearRegression</label><div class=\"sk-toggleable__content\"><pre>LinearRegression()</pre></div></div></div></div></div>"
      ],
      "text/plain": [
       "LinearRegression()"
      ]
     },
     "execution_count": 43,
     "metadata": {},
     "output_type": "execute_result"
    }
   ],
   "source": [
    "# Make a new linear regression model wit the no luxary home data to prevent data leakage.\n",
    "linear_model = LinearRegression()\n",
    "linear_model.fit(X_train_noLux, y_train_noLux)"
   ]
  },
  {
   "cell_type": "code",
   "execution_count": 44,
   "id": "aabcf667",
   "metadata": {},
   "outputs": [],
   "source": [
    "# Obtain the prediction from the new model.\n",
    "pred = linear_model.predict(X_test_noLux)"
   ]
  },
  {
   "cell_type": "code",
   "execution_count": 45,
   "id": "f74b0447",
   "metadata": {},
   "outputs": [],
   "source": [
    "#Calculate the r2 and rmse\n",
    "r2 = r2_score(y_test_noLux, pred)\n",
    "rmse = np.sqrt(mean_squared_error(y_test_noLux, pred))"
   ]
  },
  {
   "cell_type": "code",
   "execution_count": 46,
   "id": "91fd9668",
   "metadata": {},
   "outputs": [
    {
     "name": "stdout",
     "output_type": "stream",
     "text": [
      "The r2 value of this model is 0.34671056262231625\n"
     ]
    }
   ],
   "source": [
    "print(f\"The r2 value of this model is {r2}\")"
   ]
  },
  {
   "cell_type": "code",
   "execution_count": 47,
   "id": "f3e3bba1",
   "metadata": {},
   "outputs": [
    {
     "name": "stdout",
     "output_type": "stream",
     "text": [
      "The rmse of this model is 150981.15377851113\n"
     ]
    }
   ],
   "source": [
    "print(f\"The rmse of this model is {rmse}\")"
   ]
  },
  {
   "cell_type": "markdown",
   "id": "88e03733",
   "metadata": {},
   "source": [
    "The model has improved when we removed the homes over $1,000,000.00. The improvement is quite significant but the RMSE and r2 values aren't great. We want the RMSE closer to zero and the r2 closer to one for a better fit. Reviewing the data set we left in land, multifamily homes and so one. Lets make one more model using only the single family homes and repeat the previous steps."
   ]
  },
  {
   "cell_type": "markdown",
   "id": "342c5285",
   "metadata": {},
   "source": [
    "### Making adjustments to the data"
   ]
  },
  {
   "cell_type": "code",
   "execution_count": 48,
   "id": "25f6b599",
   "metadata": {},
   "outputs": [
    {
     "data": {
      "text/html": [
       "<div>\n",
       "<style scoped>\n",
       "    .dataframe tbody tr th:only-of-type {\n",
       "        vertical-align: middle;\n",
       "    }\n",
       "\n",
       "    .dataframe tbody tr th {\n",
       "        vertical-align: top;\n",
       "    }\n",
       "\n",
       "    .dataframe thead th {\n",
       "        text-align: right;\n",
       "    }\n",
       "</style>\n",
       "<table border=\"1\" class=\"dataframe\">\n",
       "  <thead>\n",
       "    <tr style=\"text-align: right;\">\n",
       "      <th></th>\n",
       "      <th>listPrice</th>\n",
       "      <th>baths</th>\n",
       "      <th>baths_full</th>\n",
       "      <th>baths_full_calc</th>\n",
       "      <th>beds</th>\n",
       "      <th>sqft</th>\n",
       "      <th>stories</th>\n",
       "      <th>year_built</th>\n",
       "      <th>type_farm</th>\n",
       "      <th>type_land</th>\n",
       "      <th>type_mobile</th>\n",
       "      <th>type_multi_family</th>\n",
       "      <th>type_single_family</th>\n",
       "      <th>type_townhomes</th>\n",
       "    </tr>\n",
       "  </thead>\n",
       "  <tbody>\n",
       "    <tr>\n",
       "      <th>0</th>\n",
       "      <td>240000.0</td>\n",
       "      <td>2</td>\n",
       "      <td>2.0</td>\n",
       "      <td>2.0</td>\n",
       "      <td>3.0</td>\n",
       "      <td>1190.0</td>\n",
       "      <td>1.0</td>\n",
       "      <td>2018.0</td>\n",
       "      <td>False</td>\n",
       "      <td>False</td>\n",
       "      <td>False</td>\n",
       "      <td>False</td>\n",
       "      <td>True</td>\n",
       "      <td>False</td>\n",
       "    </tr>\n",
       "    <tr>\n",
       "      <th>1</th>\n",
       "      <td>379900.0</td>\n",
       "      <td>4</td>\n",
       "      <td>3.0</td>\n",
       "      <td>3.0</td>\n",
       "      <td>4.0</td>\n",
       "      <td>2033.0</td>\n",
       "      <td>1.0</td>\n",
       "      <td>2002.0</td>\n",
       "      <td>False</td>\n",
       "      <td>False</td>\n",
       "      <td>False</td>\n",
       "      <td>False</td>\n",
       "      <td>True</td>\n",
       "      <td>False</td>\n",
       "    </tr>\n",
       "    <tr>\n",
       "      <th>2</th>\n",
       "      <td>370000.0</td>\n",
       "      <td>2</td>\n",
       "      <td>2.0</td>\n",
       "      <td>2.0</td>\n",
       "      <td>4.0</td>\n",
       "      <td>2062.0</td>\n",
       "      <td>1.0</td>\n",
       "      <td>2012.0</td>\n",
       "      <td>False</td>\n",
       "      <td>False</td>\n",
       "      <td>False</td>\n",
       "      <td>False</td>\n",
       "      <td>True</td>\n",
       "      <td>False</td>\n",
       "    </tr>\n",
       "    <tr>\n",
       "      <th>3</th>\n",
       "      <td>444000.0</td>\n",
       "      <td>4</td>\n",
       "      <td>3.0</td>\n",
       "      <td>3.0</td>\n",
       "      <td>5.0</td>\n",
       "      <td>3705.0</td>\n",
       "      <td>2.0</td>\n",
       "      <td>1985.0</td>\n",
       "      <td>False</td>\n",
       "      <td>False</td>\n",
       "      <td>False</td>\n",
       "      <td>False</td>\n",
       "      <td>True</td>\n",
       "      <td>False</td>\n",
       "    </tr>\n",
       "    <tr>\n",
       "      <th>4</th>\n",
       "      <td>569000.0</td>\n",
       "      <td>2</td>\n",
       "      <td>2.0</td>\n",
       "      <td>2.0</td>\n",
       "      <td>3.0</td>\n",
       "      <td>3282.0</td>\n",
       "      <td>2.0</td>\n",
       "      <td>1981.0</td>\n",
       "      <td>False</td>\n",
       "      <td>False</td>\n",
       "      <td>False</td>\n",
       "      <td>False</td>\n",
       "      <td>True</td>\n",
       "      <td>False</td>\n",
       "    </tr>\n",
       "  </tbody>\n",
       "</table>\n",
       "</div>"
      ],
      "text/plain": [
       "   listPrice  baths  baths_full  baths_full_calc  beds    sqft  stories  \\\n",
       "0   240000.0      2         2.0              2.0   3.0  1190.0      1.0   \n",
       "1   379900.0      4         3.0              3.0   4.0  2033.0      1.0   \n",
       "2   370000.0      2         2.0              2.0   4.0  2062.0      1.0   \n",
       "3   444000.0      4         3.0              3.0   5.0  3705.0      2.0   \n",
       "4   569000.0      2         2.0              2.0   3.0  3282.0      2.0   \n",
       "\n",
       "   year_built  type_farm  type_land  type_mobile  type_multi_family  \\\n",
       "0      2018.0      False      False        False              False   \n",
       "1      2002.0      False      False        False              False   \n",
       "2      2012.0      False      False        False              False   \n",
       "3      1985.0      False      False        False              False   \n",
       "4      1981.0      False      False        False              False   \n",
       "\n",
       "   type_single_family  type_townhomes  \n",
       "0                True           False  \n",
       "1                True           False  \n",
       "2                True           False  \n",
       "3                True           False  \n",
       "4                True           False  "
      ]
     },
     "execution_count": 48,
     "metadata": {},
     "output_type": "execute_result"
    }
   ],
   "source": [
    "noLuxHomes.head()"
   ]
  },
  {
   "cell_type": "code",
   "execution_count": 49,
   "id": "99c6941a",
   "metadata": {},
   "outputs": [],
   "source": [
    "# Take only the single familiy homes as the data.\n",
    "noLuxHomesSFH = noLuxHomes[noLuxHomes[\"type_single_family\"] == True]"
   ]
  },
  {
   "cell_type": "code",
   "execution_count": 50,
   "id": "f0fa532a",
   "metadata": {},
   "outputs": [],
   "source": [
    "# The target values are the list price.\n",
    "target = 'listPrice'\n",
    "\n",
    "# The features are the remaining columns minus the list price.\n",
    "features = noLuxHomesSFH.drop(target, axis=1)\n",
    "\n",
    "#Split the data into testing and training sets.\n",
    "X_train1, X_test1, y_train1, y_test1 = train_test_split(features, \n",
    "                                                    noLuxHomesSFH[target], \n",
    "                                                    test_size=0.2, \n",
    "                                                    random_state=11)"
   ]
  },
  {
   "cell_type": "code",
   "execution_count": 51,
   "id": "0065449e",
   "metadata": {},
   "outputs": [
    {
     "data": {
      "text/html": [
       "<style>#sk-container-id-3 {color: black;}#sk-container-id-3 pre{padding: 0;}#sk-container-id-3 div.sk-toggleable {background-color: white;}#sk-container-id-3 label.sk-toggleable__label {cursor: pointer;display: block;width: 100%;margin-bottom: 0;padding: 0.3em;box-sizing: border-box;text-align: center;}#sk-container-id-3 label.sk-toggleable__label-arrow:before {content: \"▸\";float: left;margin-right: 0.25em;color: #696969;}#sk-container-id-3 label.sk-toggleable__label-arrow:hover:before {color: black;}#sk-container-id-3 div.sk-estimator:hover label.sk-toggleable__label-arrow:before {color: black;}#sk-container-id-3 div.sk-toggleable__content {max-height: 0;max-width: 0;overflow: hidden;text-align: left;background-color: #f0f8ff;}#sk-container-id-3 div.sk-toggleable__content pre {margin: 0.2em;color: black;border-radius: 0.25em;background-color: #f0f8ff;}#sk-container-id-3 input.sk-toggleable__control:checked~div.sk-toggleable__content {max-height: 200px;max-width: 100%;overflow: auto;}#sk-container-id-3 input.sk-toggleable__control:checked~label.sk-toggleable__label-arrow:before {content: \"▾\";}#sk-container-id-3 div.sk-estimator input.sk-toggleable__control:checked~label.sk-toggleable__label {background-color: #d4ebff;}#sk-container-id-3 div.sk-label input.sk-toggleable__control:checked~label.sk-toggleable__label {background-color: #d4ebff;}#sk-container-id-3 input.sk-hidden--visually {border: 0;clip: rect(1px 1px 1px 1px);clip: rect(1px, 1px, 1px, 1px);height: 1px;margin: -1px;overflow: hidden;padding: 0;position: absolute;width: 1px;}#sk-container-id-3 div.sk-estimator {font-family: monospace;background-color: #f0f8ff;border: 1px dotted black;border-radius: 0.25em;box-sizing: border-box;margin-bottom: 0.5em;}#sk-container-id-3 div.sk-estimator:hover {background-color: #d4ebff;}#sk-container-id-3 div.sk-parallel-item::after {content: \"\";width: 100%;border-bottom: 1px solid gray;flex-grow: 1;}#sk-container-id-3 div.sk-label:hover label.sk-toggleable__label {background-color: #d4ebff;}#sk-container-id-3 div.sk-serial::before {content: \"\";position: absolute;border-left: 1px solid gray;box-sizing: border-box;top: 0;bottom: 0;left: 50%;z-index: 0;}#sk-container-id-3 div.sk-serial {display: flex;flex-direction: column;align-items: center;background-color: white;padding-right: 0.2em;padding-left: 0.2em;position: relative;}#sk-container-id-3 div.sk-item {position: relative;z-index: 1;}#sk-container-id-3 div.sk-parallel {display: flex;align-items: stretch;justify-content: center;background-color: white;position: relative;}#sk-container-id-3 div.sk-item::before, #sk-container-id-3 div.sk-parallel-item::before {content: \"\";position: absolute;border-left: 1px solid gray;box-sizing: border-box;top: 0;bottom: 0;left: 50%;z-index: -1;}#sk-container-id-3 div.sk-parallel-item {display: flex;flex-direction: column;z-index: 1;position: relative;background-color: white;}#sk-container-id-3 div.sk-parallel-item:first-child::after {align-self: flex-end;width: 50%;}#sk-container-id-3 div.sk-parallel-item:last-child::after {align-self: flex-start;width: 50%;}#sk-container-id-3 div.sk-parallel-item:only-child::after {width: 0;}#sk-container-id-3 div.sk-dashed-wrapped {border: 1px dashed gray;margin: 0 0.4em 0.5em 0.4em;box-sizing: border-box;padding-bottom: 0.4em;background-color: white;}#sk-container-id-3 div.sk-label label {font-family: monospace;font-weight: bold;display: inline-block;line-height: 1.2em;}#sk-container-id-3 div.sk-label-container {text-align: center;}#sk-container-id-3 div.sk-container {/* jupyter's `normalize.less` sets `[hidden] { display: none; }` but bootstrap.min.css set `[hidden] { display: none !important; }` so we also need the `!important` here to be able to override the default hidden behavior on the sphinx rendered scikit-learn.org. See: https://github.com/scikit-learn/scikit-learn/issues/21755 */display: inline-block !important;position: relative;}#sk-container-id-3 div.sk-text-repr-fallback {display: none;}</style><div id=\"sk-container-id-3\" class=\"sk-top-container\"><div class=\"sk-text-repr-fallback\"><pre>LinearRegression()</pre><b>In a Jupyter environment, please rerun this cell to show the HTML representation or trust the notebook. <br />On GitHub, the HTML representation is unable to render, please try loading this page with nbviewer.org.</b></div><div class=\"sk-container\" hidden><div class=\"sk-item\"><div class=\"sk-estimator sk-toggleable\"><input class=\"sk-toggleable__control sk-hidden--visually\" id=\"sk-estimator-id-3\" type=\"checkbox\" checked><label for=\"sk-estimator-id-3\" class=\"sk-toggleable__label sk-toggleable__label-arrow\">LinearRegression</label><div class=\"sk-toggleable__content\"><pre>LinearRegression()</pre></div></div></div></div></div>"
      ],
      "text/plain": [
       "LinearRegression()"
      ]
     },
     "execution_count": 51,
     "metadata": {},
     "output_type": "execute_result"
    }
   ],
   "source": [
    "# Setting the linear regression function to a new variable.\n",
    "linear_modelSFH = LinearRegression()\n",
    "\n",
    "# Fit the new training data to the linear regression model.\n",
    "linear_modelSFH.fit(X_train1, y_train1)"
   ]
  },
  {
   "cell_type": "code",
   "execution_count": 52,
   "id": "6bee71b2",
   "metadata": {},
   "outputs": [],
   "source": [
    "# Obtain the new predictions of the model.\n",
    "testpred = linear_modelSFH.predict(X_test1)"
   ]
  },
  {
   "cell_type": "code",
   "execution_count": 53,
   "id": "2c4c23ec",
   "metadata": {},
   "outputs": [],
   "source": [
    "# Calculate the r2 and RMSE of the model.\n",
    "\n",
    "r2 = r2_score(y_test1, testpred)\n",
    "rmse = np.sqrt(mean_squared_error(y_test1, testpred))"
   ]
  },
  {
   "cell_type": "code",
   "execution_count": 54,
   "id": "61ed8239",
   "metadata": {},
   "outputs": [
    {
     "name": "stdout",
     "output_type": "stream",
     "text": [
      "The r2 value of this model is 0.40563429684737307\n"
     ]
    }
   ],
   "source": [
    "print(f\"The r2 value of this model is {r2}\")"
   ]
  },
  {
   "cell_type": "code",
   "execution_count": 55,
   "id": "d4fb833c",
   "metadata": {},
   "outputs": [
    {
     "name": "stdout",
     "output_type": "stream",
     "text": [
      "The rmse of this model is 145131.38839224481\n"
     ]
    }
   ],
   "source": [
    "print(f\"The rmse of this model is {rmse}\")"
   ]
  },
  {
   "cell_type": "code",
   "execution_count": 56,
   "id": "0f0405de",
   "metadata": {},
   "outputs": [
    {
     "name": "stdout",
     "output_type": "stream",
     "text": [
      "The model fits the features and the targets of the training data at 20.27302564486505%\n"
     ]
    }
   ],
   "source": [
    "# Check for over and under fitting.\n",
    "fit = linear_modelSFH.score(X_test, y_test)*100\n",
    "print(f\"The model fits the features and the targets of the training data at {fit}%\")"
   ]
  },
  {
   "cell_type": "markdown",
   "id": "19dbd1c1",
   "metadata": {},
   "source": [
    "Using only the single family home data the r2 value is looking better but RMSE is still high. This model also has another issue that it's underfitting the data. Using the model score we see that only 20% of the training data gets modeled to the training list price data. Maybe linear regression isn't the best model for this data. We will need to chack a couple other linear models."
   ]
  },
  {
   "cell_type": "markdown",
   "id": "74082777",
   "metadata": {},
   "source": [
    "### Best model selection"
   ]
  },
  {
   "cell_type": "markdown",
   "id": "50d9fc30",
   "metadata": {},
   "source": [
    "Step 1: We need a scaler. I chose the power transformer because the data appears to be heteroscedastic. We will also need to create a pipeline variable using our original linear regression model."
   ]
  },
  {
   "cell_type": "code",
   "execution_count": 57,
   "id": "6b610d16",
   "metadata": {},
   "outputs": [],
   "source": [
    "# Assign the robust scaler function to a variable.\n",
    "robusts = PowerTransformer()\n",
    "\n",
    "# Assign the linear regression function to a variable.\n",
    "lin_regress = LinearRegression()\n",
    "\n",
    "#Create a pipeline with the scalar and the classifier.\n",
    "pipeline = Pipeline([(\"scaler\", robusts), (\"classifier\", lin_regress)])"
   ]
  },
  {
   "cell_type": "markdown",
   "id": "dc9d5cbb",
   "metadata": {},
   "source": [
    "Step 2: We will need to fit the training data to the new model."
   ]
  },
  {
   "cell_type": "code",
   "execution_count": 58,
   "id": "9fa45b69",
   "metadata": {},
   "outputs": [
    {
     "data": {
      "text/html": [
       "<style>#sk-container-id-4 {color: black;}#sk-container-id-4 pre{padding: 0;}#sk-container-id-4 div.sk-toggleable {background-color: white;}#sk-container-id-4 label.sk-toggleable__label {cursor: pointer;display: block;width: 100%;margin-bottom: 0;padding: 0.3em;box-sizing: border-box;text-align: center;}#sk-container-id-4 label.sk-toggleable__label-arrow:before {content: \"▸\";float: left;margin-right: 0.25em;color: #696969;}#sk-container-id-4 label.sk-toggleable__label-arrow:hover:before {color: black;}#sk-container-id-4 div.sk-estimator:hover label.sk-toggleable__label-arrow:before {color: black;}#sk-container-id-4 div.sk-toggleable__content {max-height: 0;max-width: 0;overflow: hidden;text-align: left;background-color: #f0f8ff;}#sk-container-id-4 div.sk-toggleable__content pre {margin: 0.2em;color: black;border-radius: 0.25em;background-color: #f0f8ff;}#sk-container-id-4 input.sk-toggleable__control:checked~div.sk-toggleable__content {max-height: 200px;max-width: 100%;overflow: auto;}#sk-container-id-4 input.sk-toggleable__control:checked~label.sk-toggleable__label-arrow:before {content: \"▾\";}#sk-container-id-4 div.sk-estimator input.sk-toggleable__control:checked~label.sk-toggleable__label {background-color: #d4ebff;}#sk-container-id-4 div.sk-label input.sk-toggleable__control:checked~label.sk-toggleable__label {background-color: #d4ebff;}#sk-container-id-4 input.sk-hidden--visually {border: 0;clip: rect(1px 1px 1px 1px);clip: rect(1px, 1px, 1px, 1px);height: 1px;margin: -1px;overflow: hidden;padding: 0;position: absolute;width: 1px;}#sk-container-id-4 div.sk-estimator {font-family: monospace;background-color: #f0f8ff;border: 1px dotted black;border-radius: 0.25em;box-sizing: border-box;margin-bottom: 0.5em;}#sk-container-id-4 div.sk-estimator:hover {background-color: #d4ebff;}#sk-container-id-4 div.sk-parallel-item::after {content: \"\";width: 100%;border-bottom: 1px solid gray;flex-grow: 1;}#sk-container-id-4 div.sk-label:hover label.sk-toggleable__label {background-color: #d4ebff;}#sk-container-id-4 div.sk-serial::before {content: \"\";position: absolute;border-left: 1px solid gray;box-sizing: border-box;top: 0;bottom: 0;left: 50%;z-index: 0;}#sk-container-id-4 div.sk-serial {display: flex;flex-direction: column;align-items: center;background-color: white;padding-right: 0.2em;padding-left: 0.2em;position: relative;}#sk-container-id-4 div.sk-item {position: relative;z-index: 1;}#sk-container-id-4 div.sk-parallel {display: flex;align-items: stretch;justify-content: center;background-color: white;position: relative;}#sk-container-id-4 div.sk-item::before, #sk-container-id-4 div.sk-parallel-item::before {content: \"\";position: absolute;border-left: 1px solid gray;box-sizing: border-box;top: 0;bottom: 0;left: 50%;z-index: -1;}#sk-container-id-4 div.sk-parallel-item {display: flex;flex-direction: column;z-index: 1;position: relative;background-color: white;}#sk-container-id-4 div.sk-parallel-item:first-child::after {align-self: flex-end;width: 50%;}#sk-container-id-4 div.sk-parallel-item:last-child::after {align-self: flex-start;width: 50%;}#sk-container-id-4 div.sk-parallel-item:only-child::after {width: 0;}#sk-container-id-4 div.sk-dashed-wrapped {border: 1px dashed gray;margin: 0 0.4em 0.5em 0.4em;box-sizing: border-box;padding-bottom: 0.4em;background-color: white;}#sk-container-id-4 div.sk-label label {font-family: monospace;font-weight: bold;display: inline-block;line-height: 1.2em;}#sk-container-id-4 div.sk-label-container {text-align: center;}#sk-container-id-4 div.sk-container {/* jupyter's `normalize.less` sets `[hidden] { display: none; }` but bootstrap.min.css set `[hidden] { display: none !important; }` so we also need the `!important` here to be able to override the default hidden behavior on the sphinx rendered scikit-learn.org. See: https://github.com/scikit-learn/scikit-learn/issues/21755 */display: inline-block !important;position: relative;}#sk-container-id-4 div.sk-text-repr-fallback {display: none;}</style><div id=\"sk-container-id-4\" class=\"sk-top-container\"><div class=\"sk-text-repr-fallback\"><pre>Pipeline(steps=[(&#x27;scaler&#x27;, PowerTransformer()),\n",
       "                (&#x27;classifier&#x27;, LinearRegression())])</pre><b>In a Jupyter environment, please rerun this cell to show the HTML representation or trust the notebook. <br />On GitHub, the HTML representation is unable to render, please try loading this page with nbviewer.org.</b></div><div class=\"sk-container\" hidden><div class=\"sk-item sk-dashed-wrapped\"><div class=\"sk-label-container\"><div class=\"sk-label sk-toggleable\"><input class=\"sk-toggleable__control sk-hidden--visually\" id=\"sk-estimator-id-4\" type=\"checkbox\" ><label for=\"sk-estimator-id-4\" class=\"sk-toggleable__label sk-toggleable__label-arrow\">Pipeline</label><div class=\"sk-toggleable__content\"><pre>Pipeline(steps=[(&#x27;scaler&#x27;, PowerTransformer()),\n",
       "                (&#x27;classifier&#x27;, LinearRegression())])</pre></div></div></div><div class=\"sk-serial\"><div class=\"sk-item\"><div class=\"sk-estimator sk-toggleable\"><input class=\"sk-toggleable__control sk-hidden--visually\" id=\"sk-estimator-id-5\" type=\"checkbox\" ><label for=\"sk-estimator-id-5\" class=\"sk-toggleable__label sk-toggleable__label-arrow\">PowerTransformer</label><div class=\"sk-toggleable__content\"><pre>PowerTransformer()</pre></div></div></div><div class=\"sk-item\"><div class=\"sk-estimator sk-toggleable\"><input class=\"sk-toggleable__control sk-hidden--visually\" id=\"sk-estimator-id-6\" type=\"checkbox\" ><label for=\"sk-estimator-id-6\" class=\"sk-toggleable__label sk-toggleable__label-arrow\">LinearRegression</label><div class=\"sk-toggleable__content\"><pre>LinearRegression()</pre></div></div></div></div></div></div></div>"
      ],
      "text/plain": [
       "Pipeline(steps=[('scaler', PowerTransformer()),\n",
       "                ('classifier', LinearRegression())])"
      ]
     },
     "execution_count": 58,
     "metadata": {},
     "output_type": "execute_result"
    }
   ],
   "source": [
    "# Fit the training data to the pipeline.\n",
    "pipeline.fit(X_train1, y_train1)"
   ]
  },
  {
   "cell_type": "markdown",
   "id": "843a916d",
   "metadata": {},
   "source": [
    "Step 3: Obtain the predicted values of the new linear regression model."
   ]
  },
  {
   "cell_type": "code",
   "execution_count": 59,
   "id": "f019a96d",
   "metadata": {},
   "outputs": [],
   "source": [
    "# Obtain the prediction of the pipeline.\n",
    "prediction = pipeline.predict(X_test1)"
   ]
  },
  {
   "cell_type": "markdown",
   "id": "8a687579",
   "metadata": {},
   "source": [
    "Step 4: Obtain the RMSE and R2 of the model."
   ]
  },
  {
   "cell_type": "code",
   "execution_count": 60,
   "id": "e48ed64a",
   "metadata": {},
   "outputs": [],
   "source": [
    "# Obtain the r2 and RMSE scores of the model.\n",
    "\n",
    "r2 = r2_score(y_test1, prediction)\n",
    "rmse = np.sqrt(mean_squared_error(y_test1, prediction))"
   ]
  },
  {
   "cell_type": "code",
   "execution_count": 61,
   "id": "bdbd5b1d",
   "metadata": {},
   "outputs": [
    {
     "name": "stdout",
     "output_type": "stream",
     "text": [
      "The r2 value of this model is 0.43418867691501173\n"
     ]
    }
   ],
   "source": [
    "print(f\"The r2 value of this model is {r2}\")"
   ]
  },
  {
   "cell_type": "code",
   "execution_count": 62,
   "id": "a6613483",
   "metadata": {},
   "outputs": [
    {
     "name": "stdout",
     "output_type": "stream",
     "text": [
      "The rmse of this model is 141602.29640482573\n"
     ]
    }
   ],
   "source": [
    "print(f\"The rmse of this model is {rmse}\")"
   ]
  },
  {
   "cell_type": "markdown",
   "id": "1a8c7a19",
   "metadata": {},
   "source": [
    "We can already see that adding a scaler has made an improvement to the model. Next we will need to see if there is a better linear model."
   ]
  },
  {
   "cell_type": "markdown",
   "id": "611bb54c",
   "metadata": {},
   "source": [
    "Step 4: Creat a search space using the different types of models to check. We will also need to do a 5 crossfold validation to check for over and underfitting and then fit the data to the best model."
   ]
  },
  {
   "cell_type": "markdown",
   "id": "0ef0cdaf",
   "metadata": {},
   "source": [
    "The 2 modles I chose were SVM and Linear Random Forrest. These two seemed like the best candidates for an alternate linear regression."
   ]
  },
  {
   "cell_type": "code",
   "execution_count": 63,
   "id": "d74d64cb",
   "metadata": {},
   "outputs": [],
   "source": [
    "# Create a search space with linear regression and linear random forrest and SVM.\n",
    "searchspace = [{\"classifier\": [LinearRegression()]},\n",
    "              {'classifier': [RandomForestRegressor()]},\n",
    "              {'classifier': [svm.LinearSVC()]}]\n",
    "\n",
    "# Grid search over the new search space with the 5-fold cross validation.\n",
    "grids = GridSearchCV(pipeline, searchspace, cv = 5)\n",
    "\n",
    "# Fit the training data to the best model.\n",
    "bestModel = grids.fit(X_train, y_train)"
   ]
  },
  {
   "cell_type": "markdown",
   "id": "ba1ee0e4",
   "metadata": {},
   "source": [
    "Step 5: Print out what the best model is for the data."
   ]
  },
  {
   "cell_type": "code",
   "execution_count": 64,
   "id": "6c8df2f2",
   "metadata": {},
   "outputs": [
    {
     "name": "stdout",
     "output_type": "stream",
     "text": [
      "Pipeline(steps=[('scaler', PowerTransformer()),\n",
      "                ('classifier', RandomForestRegressor())])\n"
     ]
    }
   ],
   "source": [
    "print(bestModel.best_estimator_)"
   ]
  },
  {
   "cell_type": "markdown",
   "id": "afe96cc5",
   "metadata": {},
   "source": [
    "Step 6: Fit the test data to the new model, obtain the prediction and check it for accuracy."
   ]
  },
  {
   "cell_type": "code",
   "execution_count": 65,
   "id": "77a30a14",
   "metadata": {},
   "outputs": [],
   "source": [
    "# Fit the test data to the model.\n",
    "bestModel.fit(X_test1, y_test1)\n",
    "\n",
    "# Obtain the prediction from the best model on X_test.\n",
    "prediction = bestModel.predict(X_test1)\n",
    "\n",
    "# Onbtain the r2 and RMSE of the best model\n",
    "r2 = r2_score(y_test1, prediction)\n",
    "rmse = np.sqrt(mean_squared_error(y_test1, prediction))"
   ]
  },
  {
   "cell_type": "code",
   "execution_count": 66,
   "id": "b98f2c84",
   "metadata": {},
   "outputs": [
    {
     "name": "stdout",
     "output_type": "stream",
     "text": [
      "The r2 value of this model is 0.5113103718327658\n"
     ]
    }
   ],
   "source": [
    "print(f\"The r2 value of this model is {r2}\")"
   ]
  },
  {
   "cell_type": "code",
   "execution_count": 67,
   "id": "3f79fc9b",
   "metadata": {},
   "outputs": [
    {
     "name": "stdout",
     "output_type": "stream",
     "text": [
      "The rmse of this model is 131598.5306362607\n"
     ]
    }
   ],
   "source": [
    "print(f\"The rmse of this model is {rmse}\")"
   ]
  },
  {
   "cell_type": "code",
   "execution_count": 68,
   "id": "9fcf8f93",
   "metadata": {},
   "outputs": [
    {
     "name": "stdout",
     "output_type": "stream",
     "text": [
      "The best model fits the features and the targets of the training data at 0.5113103718327658%\n"
     ]
    }
   ],
   "source": [
    "best_fit = bestModel.score(X_test1, y_test1)\n",
    "print(f\"The best model fits the features and the targets of the training data at {best_fit}%\")"
   ]
  },
  {
   "cell_type": "markdown",
   "id": "dcc4d248",
   "metadata": {},
   "source": [
    "The Random forrest provide the best model thus far for the data. the R2 is closer to 1 but it's still pretty far off. The RMSE is still to hight for the model. We also see that the model is fitting the data better but is still slightly underfitted. This could be due to additional outliers in the data or missing features that would help predict home values. We're unable to split the data by zipcode. Zipcodes are an important feature in housing data, as they can be used to search for crime in an area or school scores. Both would have a massive impact on the value of a home."
   ]
  },
  {
   "cell_type": "code",
   "execution_count": null,
   "id": "d80eb48f",
   "metadata": {},
   "outputs": [],
   "source": []
  }
 ],
 "metadata": {
  "kernelspec": {
   "display_name": "Python 3 (ipykernel)",
   "language": "python",
   "name": "python3"
  },
  "language_info": {
   "codemirror_mode": {
    "name": "ipython",
    "version": 3
   },
   "file_extension": ".py",
   "mimetype": "text/x-python",
   "name": "python",
   "nbconvert_exporter": "python",
   "pygments_lexer": "ipython3",
   "version": "3.11.5"
  }
 },
 "nbformat": 4,
 "nbformat_minor": 5
}
